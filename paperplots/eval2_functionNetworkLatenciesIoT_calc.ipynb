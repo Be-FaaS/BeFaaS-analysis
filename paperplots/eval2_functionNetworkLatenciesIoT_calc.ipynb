{
 "cells": [
  {
   "cell_type": "code",
   "execution_count": 1,
   "metadata": {
    "collapsed": true
   },
   "outputs": [
    {
     "name": "stdout",
     "output_type": "stream",
     "text": [
      "Everything is set up.\n"
     ]
    }
   ],
   "source": [
    "import json\n",
    "import json_coder\n",
    "import pandas as pd\n",
    "import networkx as nx\n",
    "import befaas as bf\n",
    "import befaas.logentry as le\n",
    "from befaas.graph import build_function_graph, add_default_metadata, conv_to_ms\n",
    "\n",
    "filepath = \"../dumps/\"\n",
    "logdumps = [\"dump_iot_google.json\",\"dump_iot_aws.json\",\"dump_iot_azure.json\"]\n",
    "#logdumps = [\"dump_iot_google.json\"]\n",
    "outfile = \"../img/latenciesIoT.pkl\"\n",
    "plotdata = []\n",
    "\n",
    "print(\"Everything is set up.\")"
   ]
  },
  {
   "cell_type": "code",
   "execution_count": 2,
   "outputs": [
    {
     "name": "stdout",
     "output_type": "stream",
     "text": [
      "Include dump dump_iot_google.json ...\n",
      "Load dump... (may take a while)\n",
      "Done.\n",
      "Sort data to contexts...\n",
      "Done.\n",
      "Find xpairs...\n",
      "done.\n",
      "Calculate transport times...\n",
      "Include dump dump_iot_aws.json ...\n",
      "Load dump... (may take a while)\n",
      "Done.\n",
      "Sort data to contexts...\n",
      "Done.\n",
      "Find xpairs...\n",
      "done.\n",
      "Calculate transport times...\n",
      "Include dump dump_iot_azure.json ...\n",
      "Load dump... (may take a while)\n",
      "Done.\n",
      "Sort data to contexts...\n",
      "Done.\n",
      "Find xpairs...\n",
      "done.\n",
      "Calculate transport times...\n"
     ]
    }
   ],
   "source": [
    "for dump in logdumps:\n",
    "    print(f\"Include dump {dump} ...\")\n",
    "    print(\"Load dump... (may take a while)\")\n",
    "    data = bf.load_logs(filepath + dump)\n",
    "    print(\"Done.\")\n",
    "\n",
    "    print(\"Sort data to contexts...\")\n",
    "    contexts = {}\n",
    "\n",
    "    for entry in data:\n",
    "        id = entry.context_id\n",
    "        if id == None:\n",
    "            continue\n",
    "\n",
    "        if not (id in contexts):\n",
    "            contexts[id] = []\n",
    "\n",
    "        contexts[id].append(entry)\n",
    "    print(\"Done.\")\n",
    "\n",
    "    print(\"Find xpairs...\")\n",
    "    xpairs = {}\n",
    "\n",
    "    for ctx_id in contexts:\n",
    "        ctx = contexts[ctx_id]\n",
    "        for entry in ctx:\n",
    "            id = entry.event[\"xPair\"]\n",
    "            if not (id in xpairs):\n",
    "                xpairs[id] = []\n",
    "\n",
    "            specialPair = False\n",
    "            if isinstance(entry, le.PerfLog):\n",
    "                if not entry.perf_type_data == \"\":\n",
    "                    parts = entry.perf_type_data.split(\":\")\n",
    "                    if len(parts) > 1:\n",
    "                        id = parts[1]\n",
    "                        if not (id in xpairs):\n",
    "                            xpairs[id] = []\n",
    "                        xpairs[id].append(entry)\n",
    "                        specialPair = True\n",
    "\n",
    "            if not specialPair:\n",
    "                xpairs[id].append(entry)\n",
    "    print(\"done.\")\n",
    "\n",
    "    print(\"Calculate transport times...\")\n",
    "    debugpairs = []\n",
    "    debugpairs2 = []\n",
    "\n",
    "    for xpairID in xpairs:\n",
    "        xpair = xpairs[xpairID]\n",
    "\n",
    "        src = \"\"\n",
    "        dst = \"\"\n",
    "        platform = \"\"\n",
    "        latency = 0\n",
    "        start = None\n",
    "        type = \"\"\n",
    "        hasDB = False\n",
    "\n",
    "        for entry in xpair:\n",
    "            if isinstance(entry, le.ArtilleryLog):\n",
    "                type = \"Load\"\n",
    "                break\n",
    "\n",
    "        if type == \"\":\n",
    "            for entry in xpair:\n",
    "                if isinstance(entry, le.PerfLog):\n",
    "                    if entry.perf_type[1] == \"dbOut\":\n",
    "                        hasDB = True\n",
    "                        break\n",
    "\n",
    "        if type == \"\":\n",
    "            rpcInFound = False\n",
    "            rpcOutFound = False\n",
    "\n",
    "            for entry in xpair:\n",
    "                if isinstance(entry, le.PerfLog):\n",
    "                    if entry.type == \"measure\":\n",
    "                        if entry.perf_type[1] == \"rpcIn\":\n",
    "                            rpcInFound = True\n",
    "                        if entry.perf_type[1] == \"rpcOut\":\n",
    "                            rpcOutFound = True\n",
    "\n",
    "            if rpcInFound and rpcOutFound:\n",
    "                type = \"Call\"\n",
    "\n",
    "        if type == \"Load\":\n",
    "            src = \"Artillery\"\n",
    "            platform = \"AWS → tinyFaaS\"\n",
    "            artilleryStart = None\n",
    "            artilleryEnd = None\n",
    "            duration = 0\n",
    "\n",
    "            for entry in xpair:\n",
    "                if isinstance(entry, le.ArtilleryLog):\n",
    "                    if (entry.event[\"type\"] == \"before\"):\n",
    "                        artilleryStart = entry.timestamp\n",
    "\n",
    "                    if (entry.event[\"type\"] == \"after\"):\n",
    "                        artilleryEnd = entry.timestamp\n",
    "\n",
    "                if isinstance(entry, le.PerfLog):\n",
    "                    if entry.type == \"measure\":\n",
    "                        if entry.perf_type[1] == \"post\":\n",
    "                            duration = entry.perf[\"duration\"]\n",
    "                            dst = entry.function\n",
    "                        if entry.perf_type[1] == \"rpcIn\":\n",
    "                            duration = entry.perf[\"duration\"]\n",
    "                            dst = entry.function\n",
    "\n",
    "            latency = (artilleryEnd.timestamp() - artilleryStart.timestamp()) * 1000 # to ms\n",
    "            latency -= duration\n",
    "            start = artilleryStart\n",
    "\n",
    "            # print(f\"Load: {src} - {dst} | {platform} | {latency}\")\n",
    "\n",
    "        if type == \"Call\":\n",
    "            srcDuration = 0\n",
    "            dstDuration = 0\n",
    "            for entry in xpair:\n",
    "                if isinstance(entry, le.PerfLog):\n",
    "                    if not entry.platform == \"tinyfaas\":\n",
    "                        platform = entry.platform\n",
    "                    if entry.type == \"measure\":\n",
    "                        if entry.perf_type[1] == \"rpcIn\":\n",
    "                            dstDuration = entry.perf[\"duration\"]\n",
    "                            dst = entry.function\n",
    "\n",
    "                        if entry.perf_type[1] == \"rpcOut\":\n",
    "                            srcDuration += entry.perf[\"duration\"]\n",
    "                            src = entry.function\n",
    "                    if entry.type == \"mark\":\n",
    "                        if entry.perf_type[1] == \"rpcOut\":\n",
    "                            start = entry.timestamp\n",
    "\n",
    "            latency = srcDuration - dstDuration\n",
    "\n",
    "            if latency > 10000:\n",
    "                debugpairs2.append(xpair)\n",
    "            # print(f\"Call: {src} - {dst} | {latency}\")\n",
    "\n",
    "        if type == \"\":\n",
    "            debugpairs.append(xpair)\n",
    "\n",
    "        if src == \"\":\n",
    "            print(f\"No SRC: {src} - {dst} - {type} - {latency}\")\n",
    "        else:\n",
    "            if not dst == \"DB\" and not src.__contains__(\"roadcondition\") and (dst.__contains__(\"lightphase\") or dst.__contains__(\"statistics\")):\n",
    "                # print(f\"Call: {src} - {dst} | {latency} | {platform} | {start}\")\n",
    "                row = {}\n",
    "                row[\"pair\"] = src + \" - \" + dst\n",
    "                row[\"latency\"] = latency\n",
    "                row[\"platform\"] = \"tinyfaas - \" +  platform\n",
    "                row[\"start\"] = start\n",
    "                plotdata.append(row)\n",
    "\n"
   ],
   "metadata": {
    "collapsed": false,
    "pycharm": {
     "name": "#%%\n"
    }
   }
  },
  {
   "cell_type": "code",
   "execution_count": 3,
   "outputs": [
    {
     "data": {
      "text/plain": "           latency\ncount  4496.000000\nmean    104.202265\nstd      58.052359\nmin      58.793095\n25%      78.984089\n50%      88.269431\n75%     133.648789\nmax    1827.088460",
      "text/html": "<div>\n<style scoped>\n    .dataframe tbody tr th:only-of-type {\n        vertical-align: middle;\n    }\n\n    .dataframe tbody tr th {\n        vertical-align: top;\n    }\n\n    .dataframe thead th {\n        text-align: right;\n    }\n</style>\n<table border=\"1\" class=\"dataframe\">\n  <thead>\n    <tr style=\"text-align: right;\">\n      <th></th>\n      <th>latency</th>\n    </tr>\n  </thead>\n  <tbody>\n    <tr>\n      <th>count</th>\n      <td>4496.000000</td>\n    </tr>\n    <tr>\n      <th>mean</th>\n      <td>104.202265</td>\n    </tr>\n    <tr>\n      <th>std</th>\n      <td>58.052359</td>\n    </tr>\n    <tr>\n      <th>min</th>\n      <td>58.793095</td>\n    </tr>\n    <tr>\n      <th>25%</th>\n      <td>78.984089</td>\n    </tr>\n    <tr>\n      <th>50%</th>\n      <td>88.269431</td>\n    </tr>\n    <tr>\n      <th>75%</th>\n      <td>133.648789</td>\n    </tr>\n    <tr>\n      <th>max</th>\n      <td>1827.088460</td>\n    </tr>\n  </tbody>\n</table>\n</div>"
     },
     "execution_count": 3,
     "metadata": {},
     "output_type": "execute_result"
    }
   ],
   "source": [
    "df_calls = pd.DataFrame(plotdata)\n",
    "df_calls.head()\n",
    "df_calls.describe()"
   ],
   "metadata": {
    "collapsed": false,
    "pycharm": {
     "name": "#%%\n"
    }
   }
  },
  {
   "cell_type": "code",
   "execution_count": 4,
   "outputs": [],
   "source": [
    "df_calls.to_pickle(outfile)"
   ],
   "metadata": {
    "collapsed": false,
    "pycharm": {
     "name": "#%%\n"
    }
   }
  }
 ],
 "metadata": {
  "kernelspec": {
   "display_name": "Python 3",
   "language": "python",
   "name": "python3"
  },
  "language_info": {
   "codemirror_mode": {
    "name": "ipython",
    "version": 2
   },
   "file_extension": ".py",
   "mimetype": "text/x-python",
   "name": "python",
   "nbconvert_exporter": "python",
   "pygments_lexer": "ipython2",
   "version": "2.7.6"
  }
 },
 "nbformat": 4,
 "nbformat_minor": 0
}