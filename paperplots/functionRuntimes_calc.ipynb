{
 "cells": [
  {
   "cell_type": "code",
   "execution_count": 3,
   "metadata": {
    "collapsed": true
   },
   "outputs": [
    {
     "name": "stdout",
     "output_type": "stream",
     "text": [
      "Everything is set up.\n"
     ]
    }
   ],
   "source": [
    "import seaborn as sns\n",
    "import pandas as pd\n",
    "import befaas.logentry as le\n",
    "from befaas.fileutil import log_entry_iterator\n",
    "\n",
    "\n",
    "sns.set()\n",
    "\n",
    "filepath = \"../dumps/\"\n",
    "#logdumps = [\"dump_webservice_google_23.json\",\"dump_webservice_aws_23.json\",\"dump_webservice_azure_23.json\"]\n",
    "logdumps = [\"dump_webservice_aws_small.json\"]\n",
    "oufile = \"../img/functionRuntimesEcomm.pkl\"\n",
    "print(\"Everything is set up.\")\n"
   ]
  },
  {
   "cell_type": "code",
   "execution_count": 4,
   "metadata": {
    "pycharm": {
     "name": "#%%\n"
    }
   },
   "outputs": [
    {
     "name": "stdout",
     "output_type": "stream",
     "text": [
      "Include dump dump_webservice_aws_small.json ...\n",
      "Iterate over ../dumps/dump_webservice_aws_small.json ...\n",
      "(1/2)  processed 10000 entries\n",
      "(1/2)  processed 20000 entries\n",
      "(1/2)  processed 30000 entries\n",
      "(1/2)  processed 40000 entries\n",
      "(1/2)  processed 50000 entries\n",
      "(1/2)  processed 60000 entries\n",
      "Iterate over ../dumps/dump_webservice_aws_small.json ...\n",
      "(2/2) processed 10000 entries\n",
      "(2/2) processed 20000 entries\n",
      "(2/2) processed 30000 entries\n",
      "(2/2) processed 40000 entries\n",
      "(2/2) processed 50000 entries\n",
      "(2/2) processed 60000 entries\n"
     ]
    }
   ],
   "source": [
    "plotdata = []\n",
    "\n",
    "for dump in logdumps:\n",
    "    print(f\"Include dump {dump} ...\")\n",
    "    # Count entries to get some progress feedback\n",
    "    entries = 0\n",
    "    contexts = {}\n",
    "    otherUserAgentContextList = []\n",
    "\n",
    "    for entry in log_entry_iterator(filepath + dump):\n",
    "        entries = entries + 1\n",
    "        if (entries % 10000 == 0):\n",
    "            print(f\"(1/2)  processed {entries} entries\")\n",
    "\n",
    "        logentry = le.cast_log_type(entry)\n",
    "        if isinstance(logentry, le.RequestLog):\n",
    "            userAgent = logentry.event['request']['headers']['user-agent']\n",
    "            if not (str(userAgent).startswith(\"node-fetch\") or str(userAgent).startswith(\"Artillery\")):\n",
    "                print(f\"Other user agent, will filter: {userAgent}\")\n",
    "                otherUserAgentContextList.append(logentry.context_id)\n",
    "\n",
    "    entries = 0\n",
    "    for entry in log_entry_iterator(filepath + dump):\n",
    "        entries = entries + 1\n",
    "        if (entries % 10000 == 0):\n",
    "            print(f\"(2/2) processed {entries} entries\")\n",
    "\n",
    "        logentry = le.cast_log_type(entry)\n",
    "        if isinstance(logentry, le.PerfLog):\n",
    "            if logentry.type == \"measure\":\n",
    "                if logentry.function == \"frontend\":\n",
    "                    if not logentry.perf_type[1] == \"rpcOut\":\n",
    "\n",
    "                        id = logentry.context_id\n",
    "\n",
    "                        # Double-Check Context\n",
    "                        context_ok = True\n",
    "\n",
    "                        if id in otherUserAgentContextList:\n",
    "                            context_ok = False\n",
    "                            print(f\"context filter applied to context {id}\")\n",
    "\n",
    "                        if context_ok:\n",
    "                            # Create context if there isn't one\n",
    "                            if not (id in contexts):\n",
    "                                contexts[id] = []\n",
    "\n",
    "                            # Check if there is already an entry for this context\n",
    "                            if len(contexts[id]) > 0 :\n",
    "                                context_ok = False\n",
    "                                for checkEntry in contexts[id]:\n",
    "                                    if str(checkEntry) != str(entry):\n",
    "                                        # No duplicate -> problem\n",
    "                                        print(f\"ERROR: {id}: {len(contexts[id])}\")\n",
    "                                        tmp = le.cast_log_type(checkEntry)\n",
    "                                        print(f\"entry: {tmp.perf_type}#{tmp.type}#{tmp.perf_type_data}#{tmp.function}\")\n",
    "                                        print(f\"{tmp}\")\n",
    "                                        print(f\"NEW entry:\")\n",
    "                                        print(f\"entry: {logentry.perf_type}#{logentry.type}#{logentry.perf_type_data}#{logentry.function}\")\n",
    "                                        print(f\"{logentry}\")\n",
    "\n",
    "                            #Parse and add data entry if context check succeeded\n",
    "                            if context_ok :\n",
    "                                contexts[id].append(entry)\n",
    "\n",
    "                                function = logentry.perf_type_data\n",
    "                                duration = logentry.perf[\"duration\"]\n",
    "                                plattform = logentry.platform\n",
    "                                #print(f\"{id}#{function}#{duration}#{plattform}\")\n",
    "                                row = {}\n",
    "                                row[\"id\"] = id\n",
    "                                row[\"function\"] = function\n",
    "                                row[\"duration\"] = duration\n",
    "                                row[\"plattform\"] = plattform\n",
    "                                plotdata.append(row)"
   ]
  },
  {
   "cell_type": "code",
   "execution_count": 5,
   "outputs": [
    {
     "data": {
      "text/plain": "                     function     duration plattform\nid                                                  \n0zi9jvea                    /  1775.917374       aws\n0hfj5zsf             /setUser    18.548749       aws\nl4d0u7ru                    /   191.556674       aws\npee35svz  /product/:productId  1522.335138       aws\nol726tlp  /product/:productId   259.315252       aws",
      "text/html": "<div>\n<style scoped>\n    .dataframe tbody tr th:only-of-type {\n        vertical-align: middle;\n    }\n\n    .dataframe tbody tr th {\n        vertical-align: top;\n    }\n\n    .dataframe thead th {\n        text-align: right;\n    }\n</style>\n<table border=\"1\" class=\"dataframe\">\n  <thead>\n    <tr style=\"text-align: right;\">\n      <th></th>\n      <th>function</th>\n      <th>duration</th>\n      <th>plattform</th>\n    </tr>\n    <tr>\n      <th>id</th>\n      <th></th>\n      <th></th>\n      <th></th>\n    </tr>\n  </thead>\n  <tbody>\n    <tr>\n      <th>0zi9jvea</th>\n      <td>/</td>\n      <td>1775.917374</td>\n      <td>aws</td>\n    </tr>\n    <tr>\n      <th>0hfj5zsf</th>\n      <td>/setUser</td>\n      <td>18.548749</td>\n      <td>aws</td>\n    </tr>\n    <tr>\n      <th>l4d0u7ru</th>\n      <td>/</td>\n      <td>191.556674</td>\n      <td>aws</td>\n    </tr>\n    <tr>\n      <th>pee35svz</th>\n      <td>/product/:productId</td>\n      <td>1522.335138</td>\n      <td>aws</td>\n    </tr>\n    <tr>\n      <th>ol726tlp</th>\n      <td>/product/:productId</td>\n      <td>259.315252</td>\n      <td>aws</td>\n    </tr>\n  </tbody>\n</table>\n</div>"
     },
     "execution_count": 5,
     "metadata": {},
     "output_type": "execute_result"
    }
   ],
   "source": [
    "df_calls = pd.DataFrame(plotdata)\n",
    "df_calls.set_index(\"id\", drop=True, inplace=True)\n",
    "\n",
    "df_calls.head()"
   ],
   "metadata": {
    "collapsed": false,
    "pycharm": {
     "name": "#%%\n"
    }
   }
  },
  {
   "cell_type": "code",
   "execution_count": 6,
   "outputs": [],
   "source": [
    "df_calls.to_pickle(oufile)"
   ],
   "metadata": {
    "collapsed": false,
    "pycharm": {
     "name": "#%%\n"
    }
   }
  }
 ],
 "metadata": {
  "kernelspec": {
   "name": "python3",
   "language": "python",
   "display_name": "Python 3"
  },
  "language_info": {
   "codemirror_mode": {
    "name": "ipython",
    "version": 3
   },
   "file_extension": ".py",
   "mimetype": "text/x-python",
   "name": "python",
   "nbconvert_exporter": "python",
   "pygments_lexer": "ipython3",
   "version": "3.8.5"
  }
 },
 "nbformat": 4,
 "nbformat_minor": 1
}