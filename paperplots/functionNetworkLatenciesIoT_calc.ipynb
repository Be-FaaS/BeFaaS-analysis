{
 "cells": [
  {
   "cell_type": "code",
   "execution_count": 1,
   "metadata": {
    "collapsed": true
   },
   "outputs": [
    {
     "name": "stdout",
     "output_type": "stream",
     "text": [
      "Everything is set up.\n"
     ]
    }
   ],
   "source": [
    "import json\n",
    "import json_coder\n",
    "import pandas as pd\n",
    "import networkx as nx\n",
    "import befaas as bf\n",
    "import befaas.logentry as le\n",
    "from befaas.graph import build_function_graph, add_default_metadata, conv_to_ms\n",
    "\n",
    "filepath = \"../dumps/\"\n",
    "dump = \"uniqueIoT.json\"\n",
    "outfile = \"../img/latenciesIoT.pkl\"\n",
    "\n",
    "print(\"Everything is set up.\")"
   ]
  },
  {
   "cell_type": "code",
   "execution_count": 2,
   "outputs": [
    {
     "name": "stdout",
     "output_type": "stream",
     "text": [
      "Load dump... (may take a while)\n",
      "Done.\n"
     ]
    }
   ],
   "source": [
    "print(\"Load dump... (may take a while)\")\n",
    "data = bf.load_logs(filepath + dump)\n",
    "print(\"Done.\")"
   ],
   "metadata": {
    "collapsed": false,
    "pycharm": {
     "name": "#%%\n"
    }
   }
  },
  {
   "cell_type": "code",
   "execution_count": 3,
   "outputs": [
    {
     "name": "stdout",
     "output_type": "stream",
     "text": [
      "Sort data to contexts...\n",
      "Done.\n"
     ]
    }
   ],
   "source": [
    "print(\"Sort data to contexts...\")\n",
    "contexts = {}\n",
    "\n",
    "for entry in data:\n",
    "    id = entry.context_id\n",
    "\n",
    "    if id == None:\n",
    "        continue\n",
    "\n",
    "    if not (id in contexts):\n",
    "        contexts[id] = []\n",
    "\n",
    "    contexts[id].append(entry)\n",
    "print(\"Done.\")"
   ],
   "metadata": {
    "collapsed": false,
    "pycharm": {
     "name": "#%%\n"
    }
   }
  },
  {
   "cell_type": "code",
   "execution_count": 4,
   "outputs": [
    {
     "name": "stdout",
     "output_type": "stream",
     "text": [
      "Find xpairs...\n",
      "done.\n"
     ]
    }
   ],
   "source": [
    "print(\"Find xpairs...\")\n",
    "xpairs = {}\n",
    "\n",
    "for ctx_id in contexts:\n",
    "    ctx = contexts[ctx_id]\n",
    "    for entry in ctx:\n",
    "        id = entry.event[\"xPair\"]\n",
    "        if not (id in xpairs):\n",
    "            xpairs[id] = []\n",
    "\n",
    "        specialPair = False\n",
    "        if isinstance(entry, le.PerfLog):\n",
    "            if not entry.perf_type_data == \"\":\n",
    "                parts = entry.perf_type_data.split(\":\")\n",
    "                if len(parts) > 1:\n",
    "                    id = parts[1]\n",
    "                    if not (id in xpairs):\n",
    "                        xpairs[id] = []\n",
    "                    xpairs[id].append(entry)\n",
    "                    specialPair = True\n",
    "\n",
    "        if not specialPair:\n",
    "            xpairs[id].append(entry)\n",
    "print(\"done.\")"
   ],
   "metadata": {
    "collapsed": false,
    "pycharm": {
     "name": "#%%\n"
    }
   }
  },
  {
   "cell_type": "code",
   "execution_count": 5,
   "outputs": [
    {
     "name": "stdout",
     "output_type": "stream",
     "text": [
      "Calculate transport times...\n"
     ]
    }
   ],
   "source": [
    "print(\"Calculate transport times...\")\n",
    "plotdata = []\n",
    "debugpairs = []\n",
    "debugpairs2 = []\n",
    "\n",
    "for xpairID in xpairs:\n",
    "    xpair = xpairs[xpairID]\n",
    "\n",
    "    src = \"\"\n",
    "    dst = \"\"\n",
    "    platform = \"\"\n",
    "    latency = 0\n",
    "    start = None\n",
    "\n",
    "    type = \"\"\n",
    "    hasDB = False\n",
    "    for entry in xpair:\n",
    "        if isinstance(entry, le.ArtilleryLog):\n",
    "            type = \"Load\"\n",
    "            break\n",
    "\n",
    "    if type == \"\":\n",
    "        for entry in xpair:\n",
    "            if isinstance(entry, le.PerfLog):\n",
    "                if entry.perf_type[1] == \"dbOut\":\n",
    "                    hasDB = True\n",
    "                    break\n",
    "\n",
    "    if type == \"\":\n",
    "        rpcInFound = False\n",
    "        rpcOutFound = False\n",
    "\n",
    "        for entry in xpair:\n",
    "            if isinstance(entry, le.PerfLog):\n",
    "                if entry.type == \"measure\":\n",
    "                    if entry.perf_type[1] == \"rpcIn\":\n",
    "                        rpcInFound = True\n",
    "                    if entry.perf_type[1] == \"rpcOut\":\n",
    "                        rpcOutFound = True\n",
    "\n",
    "        if rpcInFound and rpcOutFound:\n",
    "            type = \"Call\"\n",
    "\n",
    "    if hasDB:\n",
    "        dst = \"DB\"\n",
    "        for entry in xpair:\n",
    "            if isinstance(entry, le.PerfLog):\n",
    "                if entry.type == \"measure\":\n",
    "                    if entry.perf_type[1] == \"dbOut\":\n",
    "                        latency += entry.perf[\"duration\"]\n",
    "                        src = entry.function\n",
    "\n",
    "        if \"lightphase\" in src:\n",
    "            src = \"Light Phase\"\n",
    "            platform = \"Google\"\n",
    "        elif \"trafficstat\" in src:\n",
    "            src = \"Traffic Statistic\"\n",
    "            platform = \"Google\"\n",
    "        elif \"movementplan\" in src:\n",
    "            src = \"Movement Plan\"\n",
    "            platform = \"Both\"\n",
    "\n",
    "        #print(f\"DB: {src} - {dst} | {latency}\")\n",
    "        #row = {}\n",
    "        #row[\"pair\"] = src + \" - \" + dst\n",
    "        #row[\"latency\"] = latency\n",
    "        #row[\"platform\"] = platform\n",
    "        #plotdata.append(row)\n",
    "\n",
    "    src = \"\"\n",
    "    dst = \"\"\n",
    "    latency = 0\n",
    "    platform = \"\"\n",
    "\n",
    "    if type == \"Load\":\n",
    "\n",
    "        src = \"Artillery\"\n",
    "        platform = \"AWS → tinyFaaS\"\n",
    "        artilleryStart = None\n",
    "        artilleryEnd = None\n",
    "        duration = 0\n",
    "\n",
    "        for entry in xpair:\n",
    "            if isinstance(entry, le.ArtilleryLog):\n",
    "                if (entry.event[\"type\"] == \"before\"):\n",
    "                    artilleryStart = entry.timestamp\n",
    "\n",
    "                if (entry.event[\"type\"] == \"after\"):\n",
    "                    artilleryEnd = entry.timestamp\n",
    "\n",
    "            if isinstance(entry, le.PerfLog):\n",
    "                if entry.type == \"measure\":\n",
    "                    if entry.perf_type[1] == \"post\":\n",
    "                        duration = entry.perf[\"duration\"]\n",
    "                        dst = entry.function\n",
    "                    if entry.perf_type[1] == \"rpcIn\":\n",
    "                        duration = entry.perf[\"duration\"]\n",
    "                        dst = entry.function\n",
    "\n",
    "                    if \"weathersensor\" in dst:\n",
    "                        platform = \"AWS → GCP\"\n",
    "\n",
    "        latency = (artilleryEnd.timestamp() - artilleryStart.timestamp()) * 1000 # to ms\n",
    "        latency -= duration\n",
    "\n",
    "        if \"trafficsensor\" in dst:\n",
    "            dst = \"Traffic Sensor\"\n",
    "        elif \"weathersensor\" in dst:\n",
    "            dst = \"Weather Sensor\"\n",
    "        elif \"objectrec\" in dst:\n",
    "            dst = \"Object Recognition\"\n",
    "\n",
    "        start = artilleryStart\n",
    "\n",
    "        #print(f\"Load: {src} - {dst} | {platform} | {latency}\")\n",
    "\n",
    "    if type == \"Call\":\n",
    "        srcDuration = 0\n",
    "        dstDuration = 0\n",
    "        for entry in xpair:\n",
    "            if isinstance(entry, le.PerfLog):\n",
    "                if entry.type == \"measure\":\n",
    "                    if entry.perf_type[1] == \"rpcIn\":\n",
    "                        dstDuration = entry.perf[\"duration\"]\n",
    "                        dst = entry.function\n",
    "\n",
    "                    if entry.perf_type[1] == \"rpcOut\":\n",
    "                        srcDuration += entry.perf[\"duration\"]\n",
    "                        src = entry.function\n",
    "                if entry.type == \"mark\":\n",
    "                    if entry.perf_type[1] == \"rpcOut\":\n",
    "                        start = entry.timestamp\n",
    "\n",
    "        latency = srcDuration - dstDuration\n",
    "\n",
    "        if latency > 10000:\n",
    "            debugpairs2.append(xpair)\n",
    "        #print(f\"Call: {src} - {dst} | {latency}\")\n",
    "\n",
    "    if type == \"\":\n",
    "        debugpairs.append(xpair)\n",
    "\n",
    "    if \"roadcondition\" in src:\n",
    "        platform = \"Google\"\n",
    "        src = \"Road Condition\"\n",
    "        dst = \"Light Phase\"\n",
    "    elif \"weathersensor\" in src:\n",
    "        platform = \"Google\"\n",
    "        src = \"Weather Sensor\"\n",
    "        dst = \"Road Condition\"\n",
    "    elif \"trafficsensor\" in src:\n",
    "        platform = \"tinyFaaS\"\n",
    "        src = \"Traffic Sensor\"\n",
    "        dst = \"Movement Plan\"\n",
    "    elif \"movementplan\" in src:\n",
    "        platform = \"both\"\n",
    "        src = \"Movement Plan\"\n",
    "        dst = \"Light Phase\"\n",
    "    elif \"emergency\" in src:\n",
    "        platform = \"both\"\n",
    "        src = \"Emergency\"\n",
    "        dst = \"Light Phase\"\n",
    "    elif \"objectrec\" in src:\n",
    "        platform = \"tinyFaaS\"\n",
    "        src = \"Object Recognition\"\n",
    "        if \"trafficstat\" in dst:\n",
    "            platform = \"both\"\n",
    "            dst = \"Traffic Statistic\"\n",
    "        elif \"emergency\" in dst:\n",
    "            dst = \"Emergency\"\n",
    "        elif \"movement\" in dst:\n",
    "            dst = \"Movement Plan\"\n",
    "\n",
    "    if src == \"\":\n",
    "        print(f\"No SRC: {src} - {dst} - {type} - {latency}\")\n",
    "    else:\n",
    "        if not dst == \"DB\":\n",
    "            row = {}\n",
    "            row[\"pair\"] = src + \" - \" + dst\n",
    "            row[\"latency\"] = latency\n",
    "            row[\"platform\"] = platform\n",
    "            row[\"start\"] = start\n",
    "            plotdata.append(row)\n",
    "\n"
   ],
   "metadata": {
    "collapsed": false,
    "pycharm": {
     "name": "#%%\n"
    }
   }
  },
  {
   "cell_type": "code",
   "execution_count": 6,
   "outputs": [
    {
     "data": {
      "text/plain": "           latency\ncount  3587.000000\nmean    -71.249852\nstd     481.904120\nmin   -3112.022038\n25%      14.272021\n50%      40.313254\n75%      86.550390\nmax    1213.300904",
      "text/html": "<div>\n<style scoped>\n    .dataframe tbody tr th:only-of-type {\n        vertical-align: middle;\n    }\n\n    .dataframe tbody tr th {\n        vertical-align: top;\n    }\n\n    .dataframe thead th {\n        text-align: right;\n    }\n</style>\n<table border=\"1\" class=\"dataframe\">\n  <thead>\n    <tr style=\"text-align: right;\">\n      <th></th>\n      <th>latency</th>\n    </tr>\n  </thead>\n  <tbody>\n    <tr>\n      <th>count</th>\n      <td>3587.000000</td>\n    </tr>\n    <tr>\n      <th>mean</th>\n      <td>-71.249852</td>\n    </tr>\n    <tr>\n      <th>std</th>\n      <td>481.904120</td>\n    </tr>\n    <tr>\n      <th>min</th>\n      <td>-3112.022038</td>\n    </tr>\n    <tr>\n      <th>25%</th>\n      <td>14.272021</td>\n    </tr>\n    <tr>\n      <th>50%</th>\n      <td>40.313254</td>\n    </tr>\n    <tr>\n      <th>75%</th>\n      <td>86.550390</td>\n    </tr>\n    <tr>\n      <th>max</th>\n      <td>1213.300904</td>\n    </tr>\n  </tbody>\n</table>\n</div>"
     },
     "execution_count": 6,
     "metadata": {},
     "output_type": "execute_result"
    }
   ],
   "source": [
    "df_calls = pd.DataFrame(plotdata)\n",
    "df_calls.head()\n",
    "df_calls.describe()"
   ],
   "metadata": {
    "collapsed": false,
    "pycharm": {
     "name": "#%%\n"
    }
   }
  },
  {
   "cell_type": "code",
   "execution_count": 7,
   "outputs": [],
   "source": [
    "df_calls.to_pickle(outfile)"
   ],
   "metadata": {
    "collapsed": false,
    "pycharm": {
     "name": "#%%\n"
    }
   }
  }
 ],
 "metadata": {
  "kernelspec": {
   "display_name": "Python 3",
   "language": "python",
   "name": "python3"
  },
  "language_info": {
   "codemirror_mode": {
    "name": "ipython",
    "version": 2
   },
   "file_extension": ".py",
   "mimetype": "text/x-python",
   "name": "python",
   "nbconvert_exporter": "python",
   "pygments_lexer": "ipython2",
   "version": "2.7.6"
  }
 },
 "nbformat": 4,
 "nbformat_minor": 0
}