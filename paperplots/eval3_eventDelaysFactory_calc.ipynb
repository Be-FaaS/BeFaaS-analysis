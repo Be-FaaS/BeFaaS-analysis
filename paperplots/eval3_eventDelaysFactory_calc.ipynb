{
 "cells": [
  {
   "cell_type": "code",
   "execution_count": 1,
   "metadata": {
    "collapsed": true
   },
   "outputs": [
    {
     "name": "stdout",
     "output_type": "stream",
     "text": [
      "Everything is set up.\n"
     ]
    }
   ],
   "source": [
    "import json\n",
    "import json_coder\n",
    "import pandas as pd\n",
    "import networkx as nx\n",
    "import befaas as bf\n",
    "import befaas.logentry as le\n",
    "from befaas.graph import build_function_graph, add_default_metadata, conv_to_ms\n",
    "\n",
    "filepath = \"../dumps/\"\n",
    "dump = \"dump_smartFactory.json\"\n",
    "outfileNetwork = \"../img/2023_smartFactory_networkTransmission.pkl\"\n",
    "outfileTrigger = \"../img/2023_smartFactory_triggerDelay.pkl\"\n",
    "networkData = []\n",
    "triggerData = []\n",
    "\n",
    "print(\"Everything is set up.\")"
   ]
  },
  {
   "cell_type": "code",
   "execution_count": 2,
   "outputs": [
    {
     "name": "stdout",
     "output_type": "stream",
     "text": [
      "Include dump dump_smartFactory.json ...\n",
      "Load dump... (may take a while)\n",
      "Done.\n",
      "Sort data to contexts...\n",
      "Done.\n",
      "Find xpairs...\n",
      "done.\n"
     ]
    }
   ],
   "source": [
    "print(f\"Include dump {dump} ...\")\n",
    "print(\"Load dump... (may take a while)\")\n",
    "data = bf.load_logs(filepath + dump)\n",
    "print(\"Done.\")\n",
    "\n",
    "print(\"Sort data to contexts...\")\n",
    "contexts = {}\n",
    "\n",
    "for entry in data:\n",
    "    id = entry.context_id\n",
    "    if id == None:\n",
    "        continue\n",
    "\n",
    "    if not (id in contexts):\n",
    "        contexts[id] = []\n",
    "\n",
    "    contexts[id].append(entry)\n",
    "print(\"Done.\")\n",
    "\n",
    "print(\"Find xpairs...\")\n",
    "xpairs = {}\n",
    "\n",
    "for ctx_id in contexts:\n",
    "    ctx = contexts[ctx_id]\n",
    "    for entry in ctx:\n",
    "        id = entry.event[\"xPair\"]\n",
    "        if not (id in xpairs):\n",
    "            xpairs[id] = []\n",
    "\n",
    "        added = False\n",
    "\n",
    "        if isinstance(entry, le.PerfLog):\n",
    "            if not entry.perf_type_data == \"\":\n",
    "                parts = entry.perf_type_data.split(\":\")\n",
    "                if len(parts) > 1:\n",
    "                    id = parts[1]\n",
    "                    if not (id in xpairs):\n",
    "                        xpairs[id] = []\n",
    "                    if not (str(entry.perf_type[1]).__contains__(\"db\")):\n",
    "                        xpairs[id].append(entry)\n",
    "                        added = True\n",
    "            else:\n",
    "                xpairs[id].append(entry)\n",
    "                added = True\n",
    "\n",
    "        if isinstance(entry, le.RequestLog):\n",
    "            xpairs[id].append(entry)\n",
    "            added = True\n",
    "\n",
    "        if isinstance(entry, le.ArtilleryLog):\n",
    "            xpairs[id].append(entry)\n",
    "            added = True\n",
    "\n",
    "        #if not added:\n",
    "            # print(entry)\n",
    "\n",
    "print(\"done.\")"
   ],
   "metadata": {
    "collapsed": false,
    "pycharm": {
     "name": "#%%\n"
    }
   }
  },
  {
   "cell_type": "code",
   "execution_count": 3,
   "outputs": [
    {
     "name": "stdout",
     "output_type": "stream",
     "text": [
      "Calculate delays...\n",
      "Just 1 values, skip.\n",
      "Error in trigger latency for row {\"pair\": \"google\", \"kind\": \"trigger\", \"latency\": 0.0, \"call\": \"cushionOrder - publisher\", \"eventFun\": \"cushionProduction\"}\n"
     ]
    }
   ],
   "source": [
    "print(\"Calculate delays...\")\n",
    "errors = []\n",
    "\n",
    "for xpairID in xpairs:\n",
    "    xpair = xpairs[xpairID]\n",
    "\n",
    "    src = \"\"\n",
    "    dst = \"\"\n",
    "    srcFun = \"\"\n",
    "    dstFun = \"\"\n",
    "    eventFun = \"\"\n",
    "    # Transmission delay between calling and called provider, round-trip\n",
    "    transmission = 0\n",
    "    # Publisher execution time\n",
    "    publisher = 0\n",
    "    # Trigger delay: start of publisher to start of event function\n",
    "    trigger = 0\n",
    "\n",
    "    isArtillery = False\n",
    "    callingDuration = 0\n",
    "    calledDuration = 0\n",
    "    triggerStart = None\n",
    "    triggerEnd = None\n",
    "\n",
    "    if len(xpair) > 8:\n",
    "\n",
    "        for entry in xpair:\n",
    "            if isinstance(entry, le.ArtilleryLog):\n",
    "                isArtillery = True;\n",
    "                break;\n",
    "            if isinstance(entry, le.PerfLog):\n",
    "                if str(entry.perf_type[0]) == \"measure\" and str(entry.perf_type[1]) == \"rpcIn\":\n",
    "                    dst = entry.platform\n",
    "                    publisher = entry.perf[\"duration\"]\n",
    "                    calledDuration = entry.perf[\"duration\"]\n",
    "                if str(entry.perf_type[0]) == \"measure\" and str(entry.perf_type[1]) == \"rpcOut\":\n",
    "                    src = entry.platform\n",
    "                    callingDuration = entry.perf[\"duration\"]\n",
    "                    srcFun = entry.function\n",
    "                    dstFun = entry.perf_type_data.split(\":\")[0]\n",
    "                if str(entry.perf_type[0]) == \"start\" and str(entry.perf_type[1]) == \"rpcIn\":\n",
    "                    triggerStart = entry.timestamp\n",
    "                if str(entry.perf_type[0]) == \"start\" and str(entry.perf_type[1]) == \"msg\":\n",
    "                    triggerEnd = entry.timestamp\n",
    "                    eventFun = entry.function\n",
    "\n",
    "        if not isArtillery:\n",
    "            transmission = callingDuration - calledDuration\n",
    "            row = {}\n",
    "            row[\"pair\"] = src + \" - \" + dst\n",
    "            row[\"latency\"] = transmission\n",
    "            row[\"call\"] = srcFun + \" - \" + dstFun\n",
    "            if (transmission <= 0):\n",
    "                errors.append(\"Error in transmission latency for row \" + json.dumps(row))\n",
    "            else:\n",
    "                networkData.append(row)\n",
    "\n",
    "\n",
    "            trigger = (triggerEnd - triggerStart).microseconds / 1000\n",
    "            row = {}\n",
    "            row[\"pair\"] = dst\n",
    "            row[\"kind\"] = \"publisher\"\n",
    "            row[\"latency\"] = publisher\n",
    "            row[\"call\"] = srcFun + \" - \" + dstFun\n",
    "            row[\"eventFun\"] = eventFun\n",
    "\n",
    "            if (publisher <= 0):\n",
    "                errors.append(\"Error in publisher execution duration for row \" + json.dumps(row))\n",
    "            else:\n",
    "                #print(row)\n",
    "                triggerData.append(row)\n",
    "\n",
    "            row = {}\n",
    "            row[\"pair\"] = dst\n",
    "            row[\"kind\"] = \"trigger\"\n",
    "            row[\"latency\"] = trigger\n",
    "            row[\"call\"] = srcFun + \" - \" + dstFun\n",
    "            row[\"eventFun\"] = eventFun\n",
    "\n",
    "            if (trigger <= 0):\n",
    "                errors.append(\"Error in trigger latency for row \" + json.dumps(row))\n",
    "            else:\n",
    "                #print(row)\n",
    "                triggerData.append(row)\n",
    "\n",
    "    else:\n",
    "        errors.append(\"Just \" + str(len(xpair)) + \" values, skip.\")\n",
    "\n",
    "for e in errors:\n",
    "    print(e)\n"
   ],
   "metadata": {
    "collapsed": false,
    "pycharm": {
     "name": "#%%\n"
    }
   }
  },
  {
   "cell_type": "code",
   "execution_count": 4,
   "outputs": [],
   "source": [
    "df_calls = pd.DataFrame(networkData)\n",
    "df_calls.head()\n",
    "df_calls.describe()\n",
    "df_calls.to_pickle(outfileNetwork)"
   ],
   "metadata": {
    "collapsed": false,
    "pycharm": {
     "name": "#%%\n"
    }
   }
  },
  {
   "cell_type": "code",
   "execution_count": 5,
   "outputs": [],
   "source": [
    "df_calls = pd.DataFrame(triggerData)\n",
    "df_calls.head()\n",
    "df_calls.describe()\n",
    "df_calls.to_pickle(outfileTrigger)\n",
    "\n"
   ],
   "metadata": {
    "collapsed": false,
    "pycharm": {
     "name": "#%%\n"
    }
   }
  }
 ],
 "metadata": {
  "kernelspec": {
   "display_name": "Python 3",
   "language": "python",
   "name": "python3"
  },
  "language_info": {
   "codemirror_mode": {
    "name": "ipython",
    "version": 2
   },
   "file_extension": ".py",
   "mimetype": "text/x-python",
   "name": "python",
   "nbconvert_exporter": "python",
   "pygments_lexer": "ipython2",
   "version": "2.7.6"
  }
 },
 "nbformat": 4,
 "nbformat_minor": 0
}