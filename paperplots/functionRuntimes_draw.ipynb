{
 "cells": [
  {
   "cell_type": "code",
   "execution_count": 7,
   "metadata": {
    "collapsed": true
   },
   "outputs": [
    {
     "name": "stdout",
     "output_type": "stream",
     "text": [
      "Setup done.\n"
     ]
    }
   ],
   "source": [
    "import seaborn as sns\n",
    "import pandas as pd\n",
    "from matplotlib.patches import PathPatch\n",
    "import numpy as np\n",
    "import matplotlib\n",
    "matplotlib.rcParams['pdf.fonttype'] = 42\n",
    "matplotlib.rcParams['ps.fonttype'] = 42\n",
    "\n",
    "sns.set()\n",
    "\n",
    "infile = \"../img/functionRuntimesEcomm.pkl\"\n",
    "outfile = \"../img/fig6_functionRuntimes.pdf\"\n",
    "\n",
    "rename = [\n",
    "    [\"/product/:productId\",\"getProduct()\"],\n",
    "    [\"/addCartItem\",\"addItem()\"],\n",
    "    [\"/cart\",\"getCart()\"],\n",
    "    [\"/checkout\",\"checkout()\"],\n",
    "    [\"aws\",\"AWS\"],\n",
    "    [\"azure\",\"Azure\"],\n",
    "    [\"google\",\"GCP\"]\n",
    "]\n",
    "delete = {\"/setUser\", \"/test\", \"/\"}\n",
    "\n",
    "print(\"Setup done.\")"
   ]
  },
  {
   "cell_type": "code",
   "execution_count": 8,
   "outputs": [
    {
     "name": "stdout",
     "output_type": "stream",
     "text": [
      "sns initialized.\n"
     ]
    }
   ],
   "source": [
    "sns.set_context(\"paper\")\n",
    "colors = sns.color_palette(\"Greys\", 3)\n",
    "sns.set_palette(colors)\n",
    "sns.set_style(\"whitegrid\")\n",
    "print(\"sns initialized.\")"
   ],
   "metadata": {
    "collapsed": false,
    "pycharm": {
     "name": "#%%\n"
    }
   }
  },
  {
   "cell_type": "code",
   "execution_count": 9,
   "outputs": [
    {
     "data": {
      "text/plain": "                     function     duration plattform\nid                                                  \n50eiztzf             /setUser     2.861503       aws\n87adsaks                    /   408.160138       aws\n7q2pl43z             /setUser     0.342887       aws\nauc39v1z  /product/:productId  1159.067847       aws\nukuuryrg  /product/:productId   233.554525       aws",
      "text/html": "<div>\n<style scoped>\n    .dataframe tbody tr th:only-of-type {\n        vertical-align: middle;\n    }\n\n    .dataframe tbody tr th {\n        vertical-align: top;\n    }\n\n    .dataframe thead th {\n        text-align: right;\n    }\n</style>\n<table border=\"1\" class=\"dataframe\">\n  <thead>\n    <tr style=\"text-align: right;\">\n      <th></th>\n      <th>function</th>\n      <th>duration</th>\n      <th>plattform</th>\n    </tr>\n    <tr>\n      <th>id</th>\n      <th></th>\n      <th></th>\n      <th></th>\n    </tr>\n  </thead>\n  <tbody>\n    <tr>\n      <th>50eiztzf</th>\n      <td>/setUser</td>\n      <td>2.861503</td>\n      <td>aws</td>\n    </tr>\n    <tr>\n      <th>87adsaks</th>\n      <td>/</td>\n      <td>408.160138</td>\n      <td>aws</td>\n    </tr>\n    <tr>\n      <th>7q2pl43z</th>\n      <td>/setUser</td>\n      <td>0.342887</td>\n      <td>aws</td>\n    </tr>\n    <tr>\n      <th>auc39v1z</th>\n      <td>/product/:productId</td>\n      <td>1159.067847</td>\n      <td>aws</td>\n    </tr>\n    <tr>\n      <th>ukuuryrg</th>\n      <td>/product/:productId</td>\n      <td>233.554525</td>\n      <td>aws</td>\n    </tr>\n  </tbody>\n</table>\n</div>"
     },
     "execution_count": 9,
     "metadata": {},
     "output_type": "execute_result"
    }
   ],
   "source": [
    "df_calls = pd.read_pickle(infile)\n",
    "df_calls.head()\n",
    "#print(\"Number of function calls:\")\n",
    "#df_calls['function'].value_counts()\n",
    "#sns.catplot(x=\"function\", hue=\"plattform\", kind=\"count\", data=df_calls, height=5, aspect=3)"
   ],
   "metadata": {
    "collapsed": false,
    "pycharm": {
     "name": "#%%\n"
    }
   }
  },
  {
   "cell_type": "code",
   "execution_count": 10,
   "outputs": [
    {
     "name": "stdout",
     "output_type": "stream",
     "text": [
      "old:/product/:productId, new:getProduct()\n",
      "old:/addCartItem, new:addItem()\n",
      "old:/cart, new:getCart()\n",
      "old:/checkout, new:checkout()\n",
      "old:aws, new:AWS\n",
      "old:azure, new:Azure\n",
      "old:google, new:GCP\n"
     ]
    },
    {
     "data": {
      "text/plain": "              function     duration plattform\nid                                           \nauc39v1z  getProduct()  1159.067847       AWS\nukuuryrg  getProduct()   233.554525       AWS\n77a0bgfj     addItem()  1494.412529       AWS\nmnz3b07t     addItem()   161.104182       AWS\nhremjnji  getProduct()   285.320735       AWS",
      "text/html": "<div>\n<style scoped>\n    .dataframe tbody tr th:only-of-type {\n        vertical-align: middle;\n    }\n\n    .dataframe tbody tr th {\n        vertical-align: top;\n    }\n\n    .dataframe thead th {\n        text-align: right;\n    }\n</style>\n<table border=\"1\" class=\"dataframe\">\n  <thead>\n    <tr style=\"text-align: right;\">\n      <th></th>\n      <th>function</th>\n      <th>duration</th>\n      <th>plattform</th>\n    </tr>\n    <tr>\n      <th>id</th>\n      <th></th>\n      <th></th>\n      <th></th>\n    </tr>\n  </thead>\n  <tbody>\n    <tr>\n      <th>auc39v1z</th>\n      <td>getProduct()</td>\n      <td>1159.067847</td>\n      <td>AWS</td>\n    </tr>\n    <tr>\n      <th>ukuuryrg</th>\n      <td>getProduct()</td>\n      <td>233.554525</td>\n      <td>AWS</td>\n    </tr>\n    <tr>\n      <th>77a0bgfj</th>\n      <td>addItem()</td>\n      <td>1494.412529</td>\n      <td>AWS</td>\n    </tr>\n    <tr>\n      <th>mnz3b07t</th>\n      <td>addItem()</td>\n      <td>161.104182</td>\n      <td>AWS</td>\n    </tr>\n    <tr>\n      <th>hremjnji</th>\n      <td>getProduct()</td>\n      <td>285.320735</td>\n      <td>AWS</td>\n    </tr>\n  </tbody>\n</table>\n</div>"
     },
     "execution_count": 10,
     "metadata": {},
     "output_type": "execute_result"
    }
   ],
   "source": [
    "#Delete data as specified\n",
    "for toRemove in delete:\n",
    "    df_calls = df_calls[df_calls.function != toRemove]\n",
    "\n",
    "for tuple in rename:\n",
    "    print(f\"old:{tuple[0]}, new:{tuple[1]}\")\n",
    "    df_calls.replace(to_replace=tuple[0],value=tuple[1],inplace=True)\n",
    "\n",
    "df_calls.head()"
   ],
   "metadata": {
    "collapsed": false,
    "pycharm": {
     "name": "#%%\n"
    }
   }
  },
  {
   "cell_type": "code",
   "execution_count": 11,
   "outputs": [
    {
     "data": {
      "text/plain": "<Figure size 648x432 with 1 Axes>",
      "image/png": "[encoded data removed]"
     },
     "metadata": {},
     "output_type": "display_data"
    }
   ],
   "source": [
    "def adjust_box_widths(g, fac):\n",
    "    \"\"\"\n",
    "    Adjust the widths of a seaborn-generated boxplot.\n",
    "    (https://github.com/mwaskom/seaborn/issues/1076)\n",
    "    \"\"\"\n",
    "\n",
    "    # iterating through Axes instances\n",
    "    for ax in g.axes:\n",
    "        # iterating through axes artists:\n",
    "        for c in ax.get_children():\n",
    "            # searching for PathPatches\n",
    "            if isinstance(c, PathPatch):\n",
    "                # getting current width of box:\n",
    "                p = c.get_path()\n",
    "                verts = p.vertices\n",
    "                verts_sub = verts[:-1]\n",
    "                xmin = np.min(verts_sub[:, 0])\n",
    "                xmax = np.max(verts_sub[:, 0])\n",
    "                xmid = 0.5*(xmin+xmax)\n",
    "                xhalf = 0.5*(xmax - xmin)\n",
    "                # setting new width of box\n",
    "                xmin_new = xmid-fac*xhalf\n",
    "                xmax_new = xmid+fac*xhalf\n",
    "                verts_sub[verts_sub[:, 0] == xmin, 0] = xmin_new\n",
    "                verts_sub[verts_sub[:, 0] == xmax, 0] = xmax_new\n",
    "\n",
    "                # setting new width of median line\n",
    "                for l in ax.lines:\n",
    "                    if np.all(l.get_xdata() == [xmin, xmax]):\n",
    "                        l.set_xdata([xmin_new, xmax_new])\n",
    "\n",
    "plot = sns.catplot(x=\"function\", y=\"duration\", hue=\"plattform\", kind=\"box\", data=df_calls,\n",
    "                   height=6, aspect=1.5, sym=\"\", legend=False, linewidth=1,\n",
    "                   hue_order=[\"AWS\",\"Azure\",\"GCP\"])\n",
    "#adjust_box_widths(plot, 0.9)\n",
    "plot.set_xlabels(label = \"Function\", fontsize=\"x-large\")\n",
    "plot.set_ylabels(label = \"Execution Duration (ms)\", fontsize=\"x-large\")\n",
    "plot.set_yticklabels(size = 12)\n",
    "plot.set_xticklabels(size = 12)\n",
    "plot.set(ylim=(0, None))\n",
    "\n",
    "plot.ax.legend(loc=2, fontsize=\"x-large\")\n",
    "\n",
    "plot.savefig(outfile)"
   ],
   "metadata": {
    "collapsed": false,
    "pycharm": {
     "name": "#%%\n"
    }
   }
  },
  {
   "cell_type": "code",
   "execution_count": 12,
   "outputs": [],
   "source": [
    "#sns.catplot(x=\"function\", y=\"duration\", hue=\"plattform\", kind=\"violin\", data=df_calls, height=5, aspect=3)\n",
    "\n"
   ],
   "metadata": {
    "collapsed": false,
    "pycharm": {
     "name": "#%%\n"
    }
   }
  }
 ],
 "metadata": {
  "kernelspec": {
   "name": "python3",
   "language": "python",
   "display_name": "Python 3"
  },
  "language_info": {
   "codemirror_mode": {
    "name": "ipython",
    "version": 3
   },
   "file_extension": ".py",
   "mimetype": "text/x-python",
   "name": "python",
   "nbconvert_exporter": "python",
   "pygments_lexer": "ipython3",
   "version": "3.8.5"
  }
 },
 "nbformat": 4,
 "nbformat_minor": 1
}