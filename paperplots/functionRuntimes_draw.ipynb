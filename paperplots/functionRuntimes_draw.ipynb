{
 "cells": [
  {
   "cell_type": "code",
   "execution_count": 7,
   "metadata": {
    "collapsed": true
   },
   "outputs": [
    {
     "name": "stdout",
     "output_type": "stream",
     "text": [
      "Setup done.\n"
     ]
    }
   ],
   "source": [
    "import seaborn as sns\n",
    "import pandas as pd\n",
    "from matplotlib.patches import PathPatch\n",
    "import numpy as np\n",
    "import matplotlib\n",
    "matplotlib.rcParams['pdf.fonttype'] = 42\n",
    "matplotlib.rcParams['ps.fonttype'] = 42\n",
    "\n",
    "sns.set()\n",
    "\n",
    "infile = \"../img/functionRuntimesEcomm.pkl\"\n",
    "outfile = \"../img/2023_webservice_functionRuntimes.pdf\"\n",
    "\n",
    "rename = [\n",
    "    [\"/product/:productId\",\"getProduct()\"],\n",
    "    [\"/addCartItem\",\"addItem()\"],\n",
    "    [\"/cart\",\"getCart()\"],\n",
    "    [\"/checkout\",\"checkout()\"],\n",
    "    [\"aws\",\"AWS\"],\n",
    "    [\"azure\",\"Azure\"],\n",
    "    [\"google\",\"GCP\"]\n",
    "]\n",
    "delete = {\"/setUser\", \"/test\", \"/\"}\n",
    "\n",
    "print(\"Setup done.\")"
   ]
  },
  {
   "cell_type": "code",
   "execution_count": 8,
   "outputs": [
    {
     "name": "stdout",
     "output_type": "stream",
     "text": [
      "sns initialized.\n"
     ]
    }
   ],
   "source": [
    "sns.set_context(\"paper\")\n",
    "colors = sns.color_palette(\"Greys\", 3)\n",
    "sns.set_palette(colors)\n",
    "sns.set_style(\"whitegrid\")\n",
    "print(\"sns initialized.\")"
   ],
   "metadata": {
    "collapsed": false,
    "pycharm": {
     "name": "#%%\n"
    }
   }
  },
  {
   "cell_type": "code",
   "execution_count": 9,
   "outputs": [
    {
     "data": {
      "text/plain": "                     function    duration plattform\nid                                                 \nalat1zgg            /checkout  430.411724    google\nb6thrhrv                /cart  162.080742    google\n05zs9a2w  /product/:productId   78.121755    google\n96avaqpj  /product/:productId  112.281232    google\n8fcwchf4         /addCartItem   69.495420    google",
      "text/html": "<div>\n<style scoped>\n    .dataframe tbody tr th:only-of-type {\n        vertical-align: middle;\n    }\n\n    .dataframe tbody tr th {\n        vertical-align: top;\n    }\n\n    .dataframe thead th {\n        text-align: right;\n    }\n</style>\n<table border=\"1\" class=\"dataframe\">\n  <thead>\n    <tr style=\"text-align: right;\">\n      <th></th>\n      <th>function</th>\n      <th>duration</th>\n      <th>plattform</th>\n    </tr>\n    <tr>\n      <th>id</th>\n      <th></th>\n      <th></th>\n      <th></th>\n    </tr>\n  </thead>\n  <tbody>\n    <tr>\n      <th>alat1zgg</th>\n      <td>/checkout</td>\n      <td>430.411724</td>\n      <td>google</td>\n    </tr>\n    <tr>\n      <th>b6thrhrv</th>\n      <td>/cart</td>\n      <td>162.080742</td>\n      <td>google</td>\n    </tr>\n    <tr>\n      <th>05zs9a2w</th>\n      <td>/product/:productId</td>\n      <td>78.121755</td>\n      <td>google</td>\n    </tr>\n    <tr>\n      <th>96avaqpj</th>\n      <td>/product/:productId</td>\n      <td>112.281232</td>\n      <td>google</td>\n    </tr>\n    <tr>\n      <th>8fcwchf4</th>\n      <td>/addCartItem</td>\n      <td>69.495420</td>\n      <td>google</td>\n    </tr>\n  </tbody>\n</table>\n</div>"
     },
     "execution_count": 9,
     "metadata": {},
     "output_type": "execute_result"
    }
   ],
   "source": [
    "df_calls = pd.read_pickle(infile)\n",
    "df_calls.head()\n",
    "#print(\"Number of function calls:\")\n",
    "#df_calls['function'].value_counts()\n",
    "#sns.catplot(x=\"function\", hue=\"plattform\", kind=\"count\", data=df_calls, height=5, aspect=3)"
   ],
   "metadata": {
    "collapsed": false,
    "pycharm": {
     "name": "#%%\n"
    }
   }
  },
  {
   "cell_type": "code",
   "execution_count": 10,
   "outputs": [
    {
     "name": "stdout",
     "output_type": "stream",
     "text": [
      "old:/product/:productId, new:getProduct()\n",
      "old:/addCartItem, new:addItem()\n",
      "old:/cart, new:getCart()\n",
      "old:/checkout, new:checkout()\n",
      "old:aws, new:AWS\n",
      "old:azure, new:Azure\n",
      "old:google, new:GCP\n"
     ]
    },
    {
     "data": {
      "text/plain": "              function    duration plattform\nid                                          \nalat1zgg    checkout()  430.411724       GCP\nb6thrhrv     getCart()  162.080742       GCP\n05zs9a2w  getProduct()   78.121755       GCP\n96avaqpj  getProduct()  112.281232       GCP\n8fcwchf4     addItem()   69.495420       GCP",
      "text/html": "<div>\n<style scoped>\n    .dataframe tbody tr th:only-of-type {\n        vertical-align: middle;\n    }\n\n    .dataframe tbody tr th {\n        vertical-align: top;\n    }\n\n    .dataframe thead th {\n        text-align: right;\n    }\n</style>\n<table border=\"1\" class=\"dataframe\">\n  <thead>\n    <tr style=\"text-align: right;\">\n      <th></th>\n      <th>function</th>\n      <th>duration</th>\n      <th>plattform</th>\n    </tr>\n    <tr>\n      <th>id</th>\n      <th></th>\n      <th></th>\n      <th></th>\n    </tr>\n  </thead>\n  <tbody>\n    <tr>\n      <th>alat1zgg</th>\n      <td>checkout()</td>\n      <td>430.411724</td>\n      <td>GCP</td>\n    </tr>\n    <tr>\n      <th>b6thrhrv</th>\n      <td>getCart()</td>\n      <td>162.080742</td>\n      <td>GCP</td>\n    </tr>\n    <tr>\n      <th>05zs9a2w</th>\n      <td>getProduct()</td>\n      <td>78.121755</td>\n      <td>GCP</td>\n    </tr>\n    <tr>\n      <th>96avaqpj</th>\n      <td>getProduct()</td>\n      <td>112.281232</td>\n      <td>GCP</td>\n    </tr>\n    <tr>\n      <th>8fcwchf4</th>\n      <td>addItem()</td>\n      <td>69.495420</td>\n      <td>GCP</td>\n    </tr>\n  </tbody>\n</table>\n</div>"
     },
     "execution_count": 10,
     "metadata": {},
     "output_type": "execute_result"
    }
   ],
   "source": [
    "#Delete data as specified\n",
    "for toRemove in delete:\n",
    "    df_calls = df_calls[df_calls.function != toRemove]\n",
    "\n",
    "for tuple in rename:\n",
    "    print(f\"old:{tuple[0]}, new:{tuple[1]}\")\n",
    "    df_calls.replace(to_replace=tuple[0],value=tuple[1],inplace=True)\n",
    "\n",
    "df_calls.head()"
   ],
   "metadata": {
    "collapsed": false,
    "pycharm": {
     "name": "#%%\n"
    }
   }
  },
  {
   "cell_type": "code",
   "execution_count": 11,
   "outputs": [
    {
     "data": {
      "text/plain": "<Figure size 648x432 with 1 Axes>",
      "image/png": "[encoded data removed]"
     },
     "metadata": {},
     "output_type": "display_data"
    }
   ],
   "source": [
    "def adjust_box_widths(g, fac):\n",
    "    \"\"\"\n",
    "    Adjust the widths of a seaborn-generated boxplot.\n",
    "    (https://github.com/mwaskom/seaborn/issues/1076)\n",
    "    \"\"\"\n",
    "\n",
    "    # iterating through Axes instances\n",
    "    for ax in g.axes:\n",
    "        # iterating through axes artists:\n",
    "        for c in ax.get_children():\n",
    "            # searching for PathPatches\n",
    "            if isinstance(c, PathPatch):\n",
    "                # getting current width of box:\n",
    "                p = c.get_path()\n",
    "                verts = p.vertices\n",
    "                verts_sub = verts[:-1]\n",
    "                xmin = np.min(verts_sub[:, 0])\n",
    "                xmax = np.max(verts_sub[:, 0])\n",
    "                xmid = 0.5*(xmin+xmax)\n",
    "                xhalf = 0.5*(xmax - xmin)\n",
    "                # setting new width of box\n",
    "                xmin_new = xmid-fac*xhalf\n",
    "                xmax_new = xmid+fac*xhalf\n",
    "                verts_sub[verts_sub[:, 0] == xmin, 0] = xmin_new\n",
    "                verts_sub[verts_sub[:, 0] == xmax, 0] = xmax_new\n",
    "\n",
    "                # setting new width of median line\n",
    "                for l in ax.lines:\n",
    "                    if np.all(l.get_xdata() == [xmin, xmax]):\n",
    "                        l.set_xdata([xmin_new, xmax_new])\n",
    "\n",
    "plot = sns.catplot(x=\"function\", y=\"duration\", hue=\"plattform\", kind=\"box\", data=df_calls,\n",
    "                   height=6, aspect=1.5, sym=\"\", legend=False, linewidth=1,\n",
    "                   hue_order=[\"AWS\",\"Azure\",\"GCP\"], order= [\"addItem()\", \"getProduct()\", \"getCart()\", \"checkout()\"])\n",
    "#adjust_box_widths(plot, 0.9)\n",
    "plot.set_xlabels(label = \"Function\", fontsize=\"x-large\")\n",
    "plot.set_ylabels(label = \"Execution Duration (ms)\", fontsize=\"x-large\")\n",
    "plot.set_yticklabels(size = 12)\n",
    "plot.set_xticklabels(size = 12)\n",
    "plot.set(ylim=(0, None))\n",
    "\n",
    "plot.ax.legend(loc=2, fontsize=\"x-large\")\n",
    "\n",
    "plot.savefig(outfile)"
   ],
   "metadata": {
    "collapsed": false,
    "pycharm": {
     "name": "#%%\n"
    }
   }
  },
  {
   "cell_type": "code",
   "execution_count": 12,
   "outputs": [],
   "source": [
    "#sns.catplot(x=\"function\", y=\"duration\", hue=\"plattform\", kind=\"violin\", data=df_calls, height=5, aspect=3)\n",
    "\n"
   ],
   "metadata": {
    "collapsed": false,
    "pycharm": {
     "name": "#%%\n"
    }
   }
  }
 ],
 "metadata": {
  "kernelspec": {
   "name": "python3",
   "language": "python",
   "display_name": "Python 3"
  },
  "language_info": {
   "codemirror_mode": {
    "name": "ipython",
    "version": 3
   },
   "file_extension": ".py",
   "mimetype": "text/x-python",
   "name": "python",
   "nbconvert_exporter": "python",
   "pygments_lexer": "ipython3",
   "version": "3.8.5"
  }
 },
 "nbformat": 4,
 "nbformat_minor": 1
}