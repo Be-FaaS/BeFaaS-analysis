{
 "cells": [
  {
   "cell_type": "code",
   "execution_count": 1,
   "metadata": {
    "collapsed": true
   },
   "outputs": [
    {
     "name": "stdout",
     "output_type": "stream",
     "text": [
      "Setup done.\n"
     ]
    }
   ],
   "source": [
    "import seaborn as sns\n",
    "import pandas as pd\n",
    "from matplotlib.patches import PathPatch\n",
    "import numpy as np\n",
    "import matplotlib\n",
    "matplotlib.rcParams['pdf.fonttype'] = 42\n",
    "matplotlib.rcParams['ps.fonttype'] = 42\n",
    "\n",
    "sns.set()\n",
    "\n",
    "infile = \"../img/functionRuntimesEcomm.pkl\"\n",
    "outfile = \"../img/fig6_functionRuntimes.pdf\"\n",
    "\n",
    "rename = [\n",
    "    [\"/product/:productId\",\"getProduct()\"],\n",
    "    [\"/addCartItem\",\"addItem()\"],\n",
    "    [\"/cart\",\"getCart()\"],\n",
    "    [\"/checkout\",\"checkout()\"],\n",
    "    [\"aws\",\"AWS\"],\n",
    "    [\"azure\",\"Azure\"],\n",
    "    [\"google\",\"GCP\"]\n",
    "]\n",
    "delete = {\"/setUser\", \"/test\", \"/\"}\n",
    "\n",
    "print(\"Setup done.\")"
   ]
  },
  {
   "cell_type": "code",
   "execution_count": 2,
   "outputs": [
    {
     "name": "stdout",
     "output_type": "stream",
     "text": [
      "sns initialized.\n"
     ]
    }
   ],
   "source": [
    "sns.set_context(\"paper\")\n",
    "colors = sns.color_palette(\"Greys\", 3)\n",
    "sns.set_palette(colors)\n",
    "sns.set_style(\"whitegrid\")\n",
    "print(\"sns initialized.\")"
   ],
   "metadata": {
    "collapsed": false,
    "pycharm": {
     "name": "#%%\n"
    }
   }
  },
  {
   "cell_type": "code",
   "execution_count": 3,
   "outputs": [
    {
     "data": {
      "text/plain": "                     function     duration plattform\nid                                                  \n0zi9jvea                    /  1775.917374       aws\n0hfj5zsf             /setUser    18.548749       aws\nl4d0u7ru                    /   191.556674       aws\npee35svz  /product/:productId  1522.335138       aws\nol726tlp  /product/:productId   259.315252       aws",
      "text/html": "<div>\n<style scoped>\n    .dataframe tbody tr th:only-of-type {\n        vertical-align: middle;\n    }\n\n    .dataframe tbody tr th {\n        vertical-align: top;\n    }\n\n    .dataframe thead th {\n        text-align: right;\n    }\n</style>\n<table border=\"1\" class=\"dataframe\">\n  <thead>\n    <tr style=\"text-align: right;\">\n      <th></th>\n      <th>function</th>\n      <th>duration</th>\n      <th>plattform</th>\n    </tr>\n    <tr>\n      <th>id</th>\n      <th></th>\n      <th></th>\n      <th></th>\n    </tr>\n  </thead>\n  <tbody>\n    <tr>\n      <th>0zi9jvea</th>\n      <td>/</td>\n      <td>1775.917374</td>\n      <td>aws</td>\n    </tr>\n    <tr>\n      <th>0hfj5zsf</th>\n      <td>/setUser</td>\n      <td>18.548749</td>\n      <td>aws</td>\n    </tr>\n    <tr>\n      <th>l4d0u7ru</th>\n      <td>/</td>\n      <td>191.556674</td>\n      <td>aws</td>\n    </tr>\n    <tr>\n      <th>pee35svz</th>\n      <td>/product/:productId</td>\n      <td>1522.335138</td>\n      <td>aws</td>\n    </tr>\n    <tr>\n      <th>ol726tlp</th>\n      <td>/product/:productId</td>\n      <td>259.315252</td>\n      <td>aws</td>\n    </tr>\n  </tbody>\n</table>\n</div>"
     },
     "execution_count": 3,
     "metadata": {},
     "output_type": "execute_result"
    }
   ],
   "source": [
    "df_calls = pd.read_pickle(infile)\n",
    "df_calls.head()\n",
    "#print(\"Number of function calls:\")\n",
    "#df_calls['function'].value_counts()\n",
    "#sns.catplot(x=\"function\", hue=\"plattform\", kind=\"count\", data=df_calls, height=5, aspect=3)"
   ],
   "metadata": {
    "collapsed": false,
    "pycharm": {
     "name": "#%%\n"
    }
   }
  },
  {
   "cell_type": "code",
   "execution_count": 4,
   "outputs": [
    {
     "name": "stdout",
     "output_type": "stream",
     "text": [
      "old:/product/:productId, new:getProduct()\n",
      "old:/addCartItem, new:addItem()\n",
      "old:/cart, new:getCart()\n",
      "old:/checkout, new:checkout()\n",
      "old:aws, new:AWS\n",
      "old:azure, new:Azure\n",
      "old:google, new:GCP\n"
     ]
    },
    {
     "data": {
      "text/plain": "              function     duration plattform\nid                                           \npee35svz  getProduct()  1522.335138       AWS\nol726tlp  getProduct()   259.315252       AWS\n6kt33rx9  getProduct()   991.814660       AWS\n7845k0cb  getProduct()   151.725139       AWS\nhjtbzsi3  getProduct()   185.209501       AWS",
      "text/html": "<div>\n<style scoped>\n    .dataframe tbody tr th:only-of-type {\n        vertical-align: middle;\n    }\n\n    .dataframe tbody tr th {\n        vertical-align: top;\n    }\n\n    .dataframe thead th {\n        text-align: right;\n    }\n</style>\n<table border=\"1\" class=\"dataframe\">\n  <thead>\n    <tr style=\"text-align: right;\">\n      <th></th>\n      <th>function</th>\n      <th>duration</th>\n      <th>plattform</th>\n    </tr>\n    <tr>\n      <th>id</th>\n      <th></th>\n      <th></th>\n      <th></th>\n    </tr>\n  </thead>\n  <tbody>\n    <tr>\n      <th>pee35svz</th>\n      <td>getProduct()</td>\n      <td>1522.335138</td>\n      <td>AWS</td>\n    </tr>\n    <tr>\n      <th>ol726tlp</th>\n      <td>getProduct()</td>\n      <td>259.315252</td>\n      <td>AWS</td>\n    </tr>\n    <tr>\n      <th>6kt33rx9</th>\n      <td>getProduct()</td>\n      <td>991.814660</td>\n      <td>AWS</td>\n    </tr>\n    <tr>\n      <th>7845k0cb</th>\n      <td>getProduct()</td>\n      <td>151.725139</td>\n      <td>AWS</td>\n    </tr>\n    <tr>\n      <th>hjtbzsi3</th>\n      <td>getProduct()</td>\n      <td>185.209501</td>\n      <td>AWS</td>\n    </tr>\n  </tbody>\n</table>\n</div>"
     },
     "execution_count": 4,
     "metadata": {},
     "output_type": "execute_result"
    }
   ],
   "source": [
    "#Delete data as specified\n",
    "for toRemove in delete:\n",
    "    df_calls = df_calls[df_calls.function != toRemove]\n",
    "\n",
    "for tuple in rename:\n",
    "    print(f\"old:{tuple[0]}, new:{tuple[1]}\")\n",
    "    df_calls.replace(to_replace=tuple[0],value=tuple[1],inplace=True)\n",
    "\n",
    "df_calls.head()"
   ],
   "metadata": {
    "collapsed": false,
    "pycharm": {
     "name": "#%%\n"
    }
   }
  },
  {
   "cell_type": "code",
   "execution_count": 5,
   "outputs": [
    {
     "data": {
      "text/plain": "<Figure size 648x432 with 1 Axes>",
      "image/png": "[encoded data removed]"
     },
     "metadata": {},
     "output_type": "display_data"
    }
   ],
   "source": [
    "def adjust_box_widths(g, fac):\n",
    "    \"\"\"\n",
    "    Adjust the widths of a seaborn-generated boxplot.\n",
    "    (https://github.com/mwaskom/seaborn/issues/1076)\n",
    "    \"\"\"\n",
    "\n",
    "    # iterating through Axes instances\n",
    "    for ax in g.axes:\n",
    "        # iterating through axes artists:\n",
    "        for c in ax.get_children():\n",
    "            # searching for PathPatches\n",
    "            if isinstance(c, PathPatch):\n",
    "                # getting current width of box:\n",
    "                p = c.get_path()\n",
    "                verts = p.vertices\n",
    "                verts_sub = verts[:-1]\n",
    "                xmin = np.min(verts_sub[:, 0])\n",
    "                xmax = np.max(verts_sub[:, 0])\n",
    "                xmid = 0.5*(xmin+xmax)\n",
    "                xhalf = 0.5*(xmax - xmin)\n",
    "                # setting new width of box\n",
    "                xmin_new = xmid-fac*xhalf\n",
    "                xmax_new = xmid+fac*xhalf\n",
    "                verts_sub[verts_sub[:, 0] == xmin, 0] = xmin_new\n",
    "                verts_sub[verts_sub[:, 0] == xmax, 0] = xmax_new\n",
    "\n",
    "                # setting new width of median line\n",
    "                for l in ax.lines:\n",
    "                    if np.all(l.get_xdata() == [xmin, xmax]):\n",
    "                        l.set_xdata([xmin_new, xmax_new])\n",
    "\n",
    "plot = sns.catplot(x=\"function\", y=\"duration\", hue=\"plattform\", kind=\"box\", data=df_calls,\n",
    "                   height=6, aspect=1.5, sym=\"\", legend=False, linewidth=1,\n",
    "                   hue_order=[\"AWS\",\"Azure\",\"GCP\"])\n",
    "#adjust_box_widths(plot, 0.9)\n",
    "plot.set_xlabels(label = \"Function\", fontsize=\"x-large\")\n",
    "plot.set_ylabels(label = \"Execution Duration (ms)\", fontsize=\"x-large\")\n",
    "plot.set_yticklabels(size = 12)\n",
    "plot.set_xticklabels(size = 12)\n",
    "plot.set(ylim=(0, None))\n",
    "\n",
    "plot.ax.legend(loc=2, fontsize=\"x-large\")\n",
    "\n",
    "plot.savefig(outfile)"
   ],
   "metadata": {
    "collapsed": false,
    "pycharm": {
     "name": "#%%\n"
    }
   }
  },
  {
   "cell_type": "code",
   "execution_count": 6,
   "outputs": [],
   "source": [
    "#sns.catplot(x=\"function\", y=\"duration\", hue=\"plattform\", kind=\"violin\", data=df_calls, height=5, aspect=3)\n",
    "\n"
   ],
   "metadata": {
    "collapsed": false,
    "pycharm": {
     "name": "#%%\n"
    }
   }
  }
 ],
 "metadata": {
  "kernelspec": {
   "name": "python3",
   "language": "python",
   "display_name": "Python 3"
  },
  "language_info": {
   "codemirror_mode": {
    "name": "ipython",
    "version": 3
   },
   "file_extension": ".py",
   "mimetype": "text/x-python",
   "name": "python",
   "nbconvert_exporter": "python",
   "pygments_lexer": "ipython3",
   "version": "3.8.5"
  }
 },
 "nbformat": 4,
 "nbformat_minor": 1
}