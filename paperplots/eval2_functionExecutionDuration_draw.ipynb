{
 "cells": [
  {
   "cell_type": "code",
   "execution_count": 1,
   "metadata": {
    "collapsed": true
   },
   "outputs": [
    {
     "name": "stdout",
     "output_type": "stream",
     "text": [
      "Setup done.\n"
     ]
    }
   ],
   "source": [
    "import seaborn as sns\n",
    "import pandas as pd\n",
    "import matplotlib.pyplot as plt\n",
    "import matplotlib.patches as mpatches\n",
    "\n",
    "infile = \"../img/functionRuntimesIoT.pkl\"\n",
    "outfile = \"../img/2023_iot_functionDurations.pdf\"\n",
    "\n",
    "print(\"Setup done.\")"
   ]
  },
  {
   "cell_type": "code",
   "execution_count": 2,
   "outputs": [
    {
     "name": "stdout",
     "output_type": "stream",
     "text": [
      "sns initialized.\n"
     ]
    }
   ],
   "source": [
    "sns.set_context(\"paper\")\n",
    "colors = sns.color_palette(\"Greys\", 5)\n",
    "#sns.set_palette(colors)\n",
    "sns.set_style(\"whitegrid\")\n",
    "print(\"sns initialized.\")"
   ],
   "metadata": {
    "collapsed": false,
    "pycharm": {
     "name": "#%%\n"
    }
   }
  },
  {
   "cell_type": "code",
   "execution_count": 3,
   "outputs": [],
   "source": [
    "df_calls = pd.read_pickle(infile)"
   ],
   "metadata": {
    "collapsed": false,
    "pycharm": {
     "name": "#%%\n"
    }
   }
  },
  {
   "cell_type": "code",
   "execution_count": 4,
   "outputs": [
    {
     "name": "stdout",
     "output_type": "stream",
     "text": [
      "old:aws, new:AWS\n",
      "old:azure, new:Azure\n",
      "old:google, new:GCP\n"
     ]
    },
    {
     "data": {
      "text/plain": "  platform  setup        kind        value       valuec\n0      AWS  split  a_database    29.822748    29.822748\n1      AWS  split   b_compute   803.999568   833.822316\n2      AWS  split   c_network  1167.853799  2001.676115\n3      AWS   edge  a_database   129.548569   129.548569\n4      AWS   edge   b_compute   683.502047   813.050615\n5      AWS   edge   c_network  1082.933200  1895.983815\n6    Azure  split  a_database    27.680618    27.680618\n7    Azure  split   b_compute   711.437090   739.117707\n8    Azure  split   c_network  1249.620576  1988.738284\n9    Azure   edge  a_database   154.626257   154.626257",
      "text/html": "<div>\n<style scoped>\n    .dataframe tbody tr th:only-of-type {\n        vertical-align: middle;\n    }\n\n    .dataframe tbody tr th {\n        vertical-align: top;\n    }\n\n    .dataframe thead th {\n        text-align: right;\n    }\n</style>\n<table border=\"1\" class=\"dataframe\">\n  <thead>\n    <tr style=\"text-align: right;\">\n      <th></th>\n      <th>platform</th>\n      <th>setup</th>\n      <th>kind</th>\n      <th>value</th>\n      <th>valuec</th>\n    </tr>\n  </thead>\n  <tbody>\n    <tr>\n      <th>0</th>\n      <td>AWS</td>\n      <td>split</td>\n      <td>a_database</td>\n      <td>29.822748</td>\n      <td>29.822748</td>\n    </tr>\n    <tr>\n      <th>1</th>\n      <td>AWS</td>\n      <td>split</td>\n      <td>b_compute</td>\n      <td>803.999568</td>\n      <td>833.822316</td>\n    </tr>\n    <tr>\n      <th>2</th>\n      <td>AWS</td>\n      <td>split</td>\n      <td>c_network</td>\n      <td>1167.853799</td>\n      <td>2001.676115</td>\n    </tr>\n    <tr>\n      <th>3</th>\n      <td>AWS</td>\n      <td>edge</td>\n      <td>a_database</td>\n      <td>129.548569</td>\n      <td>129.548569</td>\n    </tr>\n    <tr>\n      <th>4</th>\n      <td>AWS</td>\n      <td>edge</td>\n      <td>b_compute</td>\n      <td>683.502047</td>\n      <td>813.050615</td>\n    </tr>\n    <tr>\n      <th>5</th>\n      <td>AWS</td>\n      <td>edge</td>\n      <td>c_network</td>\n      <td>1082.933200</td>\n      <td>1895.983815</td>\n    </tr>\n    <tr>\n      <th>6</th>\n      <td>Azure</td>\n      <td>split</td>\n      <td>a_database</td>\n      <td>27.680618</td>\n      <td>27.680618</td>\n    </tr>\n    <tr>\n      <th>7</th>\n      <td>Azure</td>\n      <td>split</td>\n      <td>b_compute</td>\n      <td>711.437090</td>\n      <td>739.117707</td>\n    </tr>\n    <tr>\n      <th>8</th>\n      <td>Azure</td>\n      <td>split</td>\n      <td>c_network</td>\n      <td>1249.620576</td>\n      <td>1988.738284</td>\n    </tr>\n    <tr>\n      <th>9</th>\n      <td>Azure</td>\n      <td>edge</td>\n      <td>a_database</td>\n      <td>154.626257</td>\n      <td>154.626257</td>\n    </tr>\n  </tbody>\n</table>\n</div>"
     },
     "execution_count": 4,
     "metadata": {},
     "output_type": "execute_result"
    }
   ],
   "source": [
    "rename = [\n",
    "    [\"aws\",\"AWS\"],\n",
    "    [\"azure\",\"Azure\"],\n",
    "    [\"google\",\"GCP\"],\n",
    "]\n",
    "\n",
    "for tuple in rename:\n",
    "    print(f\"old:{tuple[0]}, new:{tuple[1]}\")\n",
    "    df_calls.replace(to_replace=tuple[0],value=tuple[1],inplace=True)\n",
    "\n",
    "df_calls.head(10)"
   ],
   "metadata": {
    "collapsed": false,
    "pycharm": {
     "name": "#%%\n"
    }
   }
  },
  {
   "cell_type": "code",
   "execution_count": 5,
   "outputs": [
    {
     "name": "stdout",
     "output_type": "stream",
     "text": [
      "i is 0\n",
      "g is ('a_database',    platform  setup        kind       value      valuec\n",
      "0       AWS  split  a_database   29.822748   29.822748\n",
      "3       AWS   edge  a_database  129.548569  129.548569\n",
      "6     Azure  split  a_database   27.680618   27.680618\n",
      "9     Azure   edge  a_database  154.626257  154.626257\n",
      "12      GCP  split  a_database  103.362497  103.362497\n",
      "15      GCP   edge  a_database  190.524380  190.524380)\n",
      "color is (0.9125259515570934, 0.9125259515570934, 0.9125259515570934)\n",
      "col is 1\n",
      "col is 2\n",
      "i is 6\n",
      "i is 1\n",
      "g is ('b_compute',    platform  setup       kind       value      valuec\n",
      "1       AWS  split  b_compute  803.999568  833.822316\n",
      "4       AWS   edge  b_compute  683.502047  813.050615\n",
      "7     Azure  split  b_compute  711.437090  739.117707\n",
      "10    Azure   edge  b_compute  656.711051  811.337308\n",
      "13      GCP  split  b_compute  750.559007  853.921504\n",
      "16      GCP   edge  b_compute  668.596159  859.120539)\n",
      "color is (0.7777777777777778, 0.7777777777777778, 0.7777777777777778)\n",
      "col is 1\n",
      "col is 2\n",
      "col is 3\n",
      "col is 4\n",
      "i is 12\n",
      "i is 2\n",
      "g is ('c_network',    platform  setup       kind        value       valuec\n",
      "2       AWS  split  c_network  1167.853799  2001.676115\n",
      "5       AWS   edge  c_network  1082.933200  1895.983815\n",
      "8     Azure  split  c_network  1249.620576  1988.738284\n",
      "11    Azure   edge  c_network  1068.486737  1879.824045\n",
      "14      GCP  split  c_network  1190.958305  2044.879809\n",
      "17      GCP   edge  c_network  1131.771673  1990.892212)\n",
      "color is (0.586082276047674, 0.586082276047674, 0.586082276047674)\n",
      "col is 1\n",
      "col is 2\n",
      "col is 3\n",
      "col is 4\n",
      "col is 5\n",
      "col is 6\n",
      "i is 18\n"
     ]
    },
    {
     "data": {
      "text/plain": "<Figure size 432x288 with 1 Axes>",
      "image/png": "[encoded data removed]"
     },
     "metadata": {},
     "output_type": "display_data"
    }
   ],
   "source": [
    "fig = plt.figure()\n",
    "for i, g in enumerate(df_calls.groupby(\"kind\")):\n",
    "    print(\"i is \" + str(i))\n",
    "    print(\"g is \" + str(g))\n",
    "    print(\"color is \" + str(colors[i]))\n",
    "    ax = sns.barplot(data=g[1],\n",
    "                     x=\"platform\",\n",
    "                     y=\"valuec\",\n",
    "                     hue=\"setup\",\n",
    "                     color=colors[i],\n",
    "                     zorder=-i, # so first bars stay on top\n",
    "                     edgecolor=\"k\")\n",
    "\n",
    "    i = 0\n",
    "    col = 0\n",
    "    coloridx = 1\n",
    "    hatch = False\n",
    "    for bars in ax.containers:\n",
    "        for bar in bars:\n",
    "            if col == 1 or col == 3 or col == 5:\n",
    "                bar.set_hatch(\"/\")\n",
    "\n",
    "            if (i >= 6 ):\n",
    "                coloridx = 2\n",
    "            if (i >= 12):\n",
    "                coloridx = 3\n",
    "\n",
    "            bar.set_facecolor(colors[coloridx])\n",
    "            i = i+1;\n",
    "        col = col +1\n",
    "        print(\"col is \" + str(col))\n",
    "\n",
    "\n",
    "\n",
    "    print(\"i is \" + str (i))\n",
    "\n",
    "ax.legend_.remove() # remove the redundant legends\n",
    "\n",
    "\n",
    "rects=[]\n",
    "rects.append(ax.bar(0, 0, color=colors[1]))\n",
    "rects.append(ax.bar(0, 0, color=colors[2]))\n",
    "rects.append(ax.bar(0, 0, color=colors[3]))\n",
    "l1 = plt.legend(rects, [\"Database\", \"Network\", \"Compute\"], loc=[1.01, 0.1])\n",
    "\n",
    "\n",
    "rects=[]\n",
    "rects.append(ax.bar(0, 0, color=colors[1]))\n",
    "rects.append(ax.bar(0, 0, color=colors[1], edgecolor=\"black\", hatch = \"//\"))\n",
    "l2 = plt.legend(rects, [\"Split\", \"Edge\"], loc=[1.01, 0.5])\n",
    "ax.add_artist(l1)\n",
    "\n",
    "ax.set_xlabel(\"Platform\", fontsize=\"x-large\")\n",
    "ax.set_ylabel(\"Duration (s)\", fontsize=\"x-large\")\n",
    "fig.savefig(outfile, bbox_inches=\"tight\")\n"
   ],
   "metadata": {
    "collapsed": false,
    "pycharm": {
     "name": "#%%\n"
    }
   }
  }
 ],
 "metadata": {
  "kernelspec": {
   "name": "python3",
   "language": "python",
   "display_name": "Python 3"
  },
  "language_info": {
   "codemirror_mode": {
    "name": "ipython",
    "version": 3
   },
   "file_extension": ".py",
   "mimetype": "text/x-python",
   "name": "python",
   "nbconvert_exporter": "python",
   "pygments_lexer": "ipython3",
   "version": "3.8.5"
  }
 },
 "nbformat": 4,
 "nbformat_minor": 1
}