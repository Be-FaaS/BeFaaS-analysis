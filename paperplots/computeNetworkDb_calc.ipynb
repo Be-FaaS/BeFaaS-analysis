{
 "cells": [
  {
   "cell_type": "code",
   "execution_count": 3,
   "metadata": {
    "collapsed": true
   },
   "outputs": [
    {
     "name": "stdout",
     "output_type": "stream",
     "text": [
      "Everything is set up.\n"
     ]
    }
   ],
   "source": [
    "import seaborn as sns\n",
    "import pandas as pd\n",
    "import befaas.logentry as le\n",
    "from befaas.fileutil import log_entry_iterator\n",
    "\n",
    "filepath = \"../dumps/\"\n",
    "logdumps = [\"dump_webservice_aws_23.json\",\"dump_webservice_google_23.json\",\"dump_webservice_azure_23.json\"]\n",
    "oufile = \"../img/computeNetworkDbEcomm.pkl\"\n",
    "\n",
    "print(\"Everything is set up.\")"
   ]
  },
  {
   "cell_type": "code",
   "execution_count": 4,
   "metadata": {
    "pycharm": {
     "name": "#%%\n"
    }
   },
   "outputs": [
    {
     "name": "stdout",
     "output_type": "stream",
     "text": [
      "Include dump dump_webservice_aws_23.json ...\n",
      "Iterate over ../dumps/dump_webservice_aws_23.json ...\n"
     ]
    },
    {
     "ename": "FileNotFoundError",
     "evalue": "[Errno 2] No such file or directory: '../dumps/dump_webservice_aws_23.json'",
     "output_type": "error",
     "traceback": [
      "\u001B[1;31m---------------------------------------------------------------------------\u001B[0m",
      "\u001B[1;31mFileNotFoundError\u001B[0m                         Traceback (most recent call last)",
      "\u001B[1;32m<ipython-input-4-945cd6584024>\u001B[0m in \u001B[0;36m<module>\u001B[1;34m\u001B[0m\n\u001B[0;32m      9\u001B[0m     \u001B[0mrelevantContextList\u001B[0m \u001B[1;33m=\u001B[0m \u001B[1;33m[\u001B[0m\u001B[1;33m]\u001B[0m\u001B[1;33m\u001B[0m\u001B[1;33m\u001B[0m\u001B[0m\n\u001B[0;32m     10\u001B[0m \u001B[1;33m\u001B[0m\u001B[0m\n\u001B[1;32m---> 11\u001B[1;33m     \u001B[1;32mfor\u001B[0m \u001B[0mentry\u001B[0m \u001B[1;32min\u001B[0m \u001B[0mlog_entry_iterator\u001B[0m\u001B[1;33m(\u001B[0m\u001B[0mfilepath\u001B[0m \u001B[1;33m+\u001B[0m \u001B[0mdump\u001B[0m\u001B[1;33m)\u001B[0m\u001B[1;33m:\u001B[0m\u001B[1;33m\u001B[0m\u001B[1;33m\u001B[0m\u001B[0m\n\u001B[0m\u001B[0;32m     12\u001B[0m         \u001B[0mentries\u001B[0m \u001B[1;33m=\u001B[0m \u001B[0mentries\u001B[0m \u001B[1;33m+\u001B[0m \u001B[1;36m1\u001B[0m\u001B[1;33m\u001B[0m\u001B[1;33m\u001B[0m\u001B[0m\n\u001B[0;32m     13\u001B[0m         \u001B[1;32mif\u001B[0m \u001B[1;33m(\u001B[0m\u001B[0mentries\u001B[0m \u001B[1;33m%\u001B[0m \u001B[1;36m10000\u001B[0m \u001B[1;33m==\u001B[0m \u001B[1;36m0\u001B[0m\u001B[1;33m)\u001B[0m\u001B[1;33m:\u001B[0m\u001B[1;33m\u001B[0m\u001B[1;33m\u001B[0m\u001B[0m\n",
      "\u001B[1;32m~\\DevProjects\\BeFaaS\\BeFaaS-analysis\\befaas\\fileutil.py\u001B[0m in \u001B[0;36mlog_entry_iterator\u001B[1;34m(path)\u001B[0m\n\u001B[0;32m      5\u001B[0m \u001B[1;32mdef\u001B[0m \u001B[0mlog_entry_iterator\u001B[0m\u001B[1;33m(\u001B[0m\u001B[0mpath\u001B[0m\u001B[1;33m:\u001B[0m \u001B[0mpathlib\u001B[0m\u001B[1;33m.\u001B[0m\u001B[0mPath\u001B[0m\u001B[1;33m)\u001B[0m\u001B[1;33m:\u001B[0m\u001B[1;33m\u001B[0m\u001B[1;33m\u001B[0m\u001B[0m\n\u001B[0;32m      6\u001B[0m     \u001B[0mprint\u001B[0m\u001B[1;33m(\u001B[0m\u001B[1;34mf\"Iterate over {path} ...\"\u001B[0m\u001B[1;33m)\u001B[0m\u001B[1;33m\u001B[0m\u001B[1;33m\u001B[0m\u001B[0m\n\u001B[1;32m----> 7\u001B[1;33m     \u001B[1;32mwith\u001B[0m \u001B[0mopen\u001B[0m\u001B[1;33m(\u001B[0m\u001B[0mpath\u001B[0m\u001B[1;33m)\u001B[0m \u001B[1;32mas\u001B[0m \u001B[0mf\u001B[0m\u001B[1;33m:\u001B[0m\u001B[1;33m\u001B[0m\u001B[1;33m\u001B[0m\u001B[0m\n\u001B[0m\u001B[0;32m      8\u001B[0m         \u001B[0mnewtext\u001B[0m \u001B[1;33m=\u001B[0m \u001B[0mf\u001B[0m\u001B[1;33m.\u001B[0m\u001B[0mread\u001B[0m\u001B[1;33m(\u001B[0m\u001B[1;36m100\u001B[0m\u001B[1;33m)\u001B[0m  \u001B[1;31m# Reads the first 100 character and moves pointer to 101th character\u001B[0m\u001B[1;33m\u001B[0m\u001B[1;33m\u001B[0m\u001B[0m\n\u001B[0;32m      9\u001B[0m         \u001B[0mbuffer\u001B[0m \u001B[1;33m=\u001B[0m \u001B[0mnewtext\u001B[0m\u001B[1;33m\u001B[0m\u001B[1;33m\u001B[0m\u001B[0m\n",
      "\u001B[1;31mFileNotFoundError\u001B[0m: [Errno 2] No such file or directory: '../dumps/dump_webservice_aws_23.json'"
     ]
    }
   ],
   "source": [
    "plotdata = []\n",
    "\n",
    "for dump in logdumps:\n",
    "    print(f\"Include dump {dump} ...\")\n",
    "    # Count entries to get some progress feedback\n",
    "    entries = 0\n",
    "    contexts = {}\n",
    "    otherUserAgentContextList = []\n",
    "    relevantContextList = []\n",
    "\n",
    "    for entry in log_entry_iterator(filepath + dump):\n",
    "        entries = entries + 1\n",
    "        if (entries % 10000 == 0):\n",
    "            print(f\"(I)  processed {entries} entries\")\n",
    "\n",
    "        logentry = le.cast_log_type(entry)\n",
    "        if isinstance(logentry, le.RequestLog):\n",
    "            userAgent = logentry.event['request']['headers']['user-agent']\n",
    "            if not str(userAgent).startswith(\"node-fetch\") | str(userAgent).startswith(\"Artillery\"):\n",
    "                print(f\"Other user agent, will filter: {userAgent}\")\n",
    "                otherUserAgentContextList.append(logentry.context_id)\n",
    "\n",
    "        if logentry.function == \"addcartitem\" and not (logentry.context_id in relevantContextList):\n",
    "            relevantContextList.append(logentry.context_id)\n",
    "\n",
    "    # Init stats for dump\n",
    "    entries = 0\n",
    "    measurements = {}\n",
    "\n",
    "\n",
    "    for entry in log_entry_iterator(filepath + dump):\n",
    "        entries = entries + 1\n",
    "        if (entries % 10000 == 0):\n",
    "            print(f\"(II) processed {entries} entries\")\n",
    "\n",
    "        logentry = le.cast_log_type(entry)\n",
    "        id = logentry.context_id\n",
    "        if isinstance(logentry, le.PerfLog) and id in relevantContextList:\n",
    "            context_ok = True\n",
    "            fnName = logentry.function\n",
    "            if fnName == \"addcartitem\" or fnName == \"cartkvstorage\":\n",
    "                if id in otherUserAgentContextList:\n",
    "                    context_ok = False\n",
    "                    print(f\"context filter applied to context {id}\")\n",
    "\n",
    "                if context_ok:\n",
    "                    # Create context if there isn't one\n",
    "                    if not (id in contexts):\n",
    "                        contexts[id] = []\n",
    "                        measurements[id] = {}\n",
    "                        measurements[id][\"compute\"] = 0.0\n",
    "                        measurements[id][\"network\"] = 0.0\n",
    "                        measurements[id][\"db\"] = 0.0\n",
    "                        measurements[id][\"op_cpu\"] = 0\n",
    "                        measurements[id][\"op_nw\"] = 0\n",
    "                        measurements[id][\"op_db\"] = 0\n",
    "\n",
    "                    # Check if there is already the same entry for this context (duplicate)\n",
    "                    for checkEntry in contexts[id]:\n",
    "                        if str(checkEntry) == str(entry):\n",
    "                            # duplicate -> do not evaluate\n",
    "                            context_ok = False\n",
    "                            break\n",
    "\n",
    "                if context_ok and logentry.type == \"measure\":\n",
    "                    # context is ok => add to context list and add to stats\n",
    "                    contexts[id].append(entry)\n",
    "\n",
    "                    duration = logentry.perf[\"duration\"]\n",
    "                    if duration < 0:\n",
    "                        print(f\"ERROR: negative duration for entry {entry}\")\n",
    "\n",
    "                    plattform = logentry.platform\n",
    "\n",
    "\n",
    "                    if logentry.perf_type[1] == \"rpcIn\":\n",
    "                        #Type is complete (inner function) call (but not the root one) (e.g., D or E)\n",
    "                        measurements[id][\"compute\"] += duration\n",
    "                        measurements[id][\"op_cpu\"] += 1\n",
    "\n",
    "                        if fnName != \"addcartitem\":\n",
    "                            # not a root call\n",
    "                            measurements[id][\"network\"] -= duration\n",
    "                            measurements[id][\"op_nw\"] += 1\n",
    "\n",
    "                    elif logentry.perf_type[1] == \"rpcOut\":\n",
    "                        # Type is partcall (e.g., B or C)\n",
    "                        measurements[id][\"compute\"] -= duration\n",
    "                        measurements[id][\"network\"] += duration\n",
    "                        measurements[id][\"op_cpu\"] += 1\n",
    "                        measurements[id][\"op_nw\"] += 1\n",
    "                    elif logentry.perf_type[1] == \"dbOut\":\n",
    "                        #type is DB call (e.g., F)\n",
    "                        measurements[id][\"compute\"] -= duration\n",
    "                        measurements[id][\"db\"] += duration\n",
    "                        measurements[id][\"op_cpu\"] += 1\n",
    "                        measurements[id][\"op_db\"] += 1\n",
    "                    else:\n",
    "                        # type is something else -> Print\n",
    "                        print(\"unhandled type, pls check:\")\n",
    "                        for perfType in logentry.perf_type:\n",
    "                            print(f\"type is {perfType}\")\n",
    "\n",
    "    # Write measurements in plotdata\n",
    "    for ctx_id in measurements:\n",
    "        if measurements[ctx_id][\"compute\"] < 0:\n",
    "            print(f\"negative computing duration for context {ctx_id}\")\n",
    "            continue\n",
    "        if measurements[ctx_id][\"network\"] < 0:\n",
    "            print(f\"negative network duration for context {ctx_id}\")\n",
    "            continue\n",
    "        if measurements[ctx_id][\"db\"] < 0:\n",
    "            print(f\"negative database duration for context {ctx_id}\")\n",
    "            continue\n",
    "\n",
    "        row = {}\n",
    "        row[\"id\"] = ctx_id\n",
    "        row[\"plattform\"] = plattform\n",
    "        row[\"class\"] = \"compute\"\n",
    "        row[\"ops\"] = measurements[ctx_id][\"op_cpu\"]\n",
    "        row[\"duration\"] = measurements[ctx_id][\"compute\"]\n",
    "        plotdata.append(row)\n",
    "\n",
    "        row = {}\n",
    "        row[\"id\"] = ctx_id\n",
    "        row[\"plattform\"] = plattform\n",
    "        row[\"class\"] = \"network\"\n",
    "        row[\"ops\"] = measurements[ctx_id][\"op_nw\"]\n",
    "        row[\"duration\"] = measurements[ctx_id][\"network\"]\n",
    "        plotdata.append(row)\n",
    "\n",
    "        row = {}\n",
    "        row[\"id\"] = ctx_id\n",
    "        row[\"plattform\"] = plattform\n",
    "        row[\"class\"] = \"db\"\n",
    "        row[\"ops\"] = measurements[ctx_id][\"op_db\"]\n",
    "        row[\"duration\"] = measurements[ctx_id][\"db\"]\n",
    "        plotdata.append(row)"
   ]
  },
  {
   "cell_type": "code",
   "execution_count": null,
   "outputs": [],
   "source": [
    "df_calls = pd.DataFrame(plotdata)\n",
    "df_calls.head()"
   ],
   "metadata": {
    "collapsed": false,
    "pycharm": {
     "name": "#%%\n"
    }
   }
  },
  {
   "cell_type": "code",
   "execution_count": null,
   "outputs": [],
   "source": [
    "df_calls.to_pickle(oufile)"
   ],
   "metadata": {
    "collapsed": false,
    "pycharm": {
     "name": "#%%\n"
    }
   }
  }
 ],
 "metadata": {
  "kernelspec": {
   "name": "python3",
   "language": "python",
   "display_name": "Python 3"
  },
  "language_info": {
   "codemirror_mode": {
    "name": "ipython",
    "version": 3
   },
   "file_extension": ".py",
   "mimetype": "text/x-python",
   "name": "python",
   "nbconvert_exporter": "python",
   "pygments_lexer": "ipython3",
   "version": "3.8.5"
  }
 },
 "nbformat": 4,
 "nbformat_minor": 1
}